{
 "cells": [
  {
   "cell_type": "code",
   "execution_count": null,
   "metadata": {
    "execution": {
     "iopub.execute_input": "2022-06-09T16:52:41.930329Z",
     "iopub.status.busy": "2022-06-09T16:52:41.929546Z",
     "iopub.status.idle": "2022-06-09T16:52:41.935976Z",
     "shell.execute_reply": "2022-06-09T16:52:41.935207Z",
     "shell.execute_reply.started": "2022-06-09T16:52:41.930290Z"
    }
   },
   "outputs": [],
   "source": [
    "# Importing libraries.\n",
    "import pandas as pd\n",
    "import numpy as np\n",
    "import seaborn as sns\n",
    "import matplotlib.pyplot as plt\n"
   ]
  },
  {
   "cell_type": "markdown",
   "metadata": {},
   "source": [
    "# Data Preprocessing"
   ]
  },
  {
   "cell_type": "markdown",
   "metadata": {},
   "source": [
    "### Importing the data"
   ]
  },
  {
   "cell_type": "code",
   "execution_count": null,
   "metadata": {
    "execution": {
     "iopub.execute_input": "2022-06-09T16:52:41.998563Z",
     "iopub.status.busy": "2022-06-09T16:52:41.997909Z",
     "iopub.status.idle": "2022-06-09T16:52:42.915497Z",
     "shell.execute_reply": "2022-06-09T16:52:42.914247Z",
     "shell.execute_reply.started": "2022-06-09T16:52:41.998527Z"
    }
   },
   "outputs": [],
   "source": [
    "# Importing the dataset.\n",
    "df = pd.read_csv(r'C:\\Users\\RaviTeja\\Desktop\\Great Learning\\Capstone_project\\loan.csv')\n",
    "# set the max columns to none\n",
    "pd.set_option('display.max_columns', None)\n",
    "pd.set_option('display.max_rows', None)"
   ]
  },
  {
   "cell_type": "code",
   "execution_count": null,
   "metadata": {
    "execution": {
     "iopub.execute_input": "2022-06-09T16:52:42.917877Z",
     "iopub.status.busy": "2022-06-09T16:52:42.917365Z",
     "iopub.status.idle": "2022-06-09T16:52:42.950330Z",
     "shell.execute_reply": "2022-06-09T16:52:42.949348Z",
     "shell.execute_reply.started": "2022-06-09T16:52:42.917831Z"
    }
   },
   "outputs": [],
   "source": [
    "df_1 = df.copy()"
   ]
  },
  {
   "cell_type": "code",
   "execution_count": null,
   "metadata": {
    "execution": {
     "iopub.execute_input": "2022-06-09T16:52:42.952164Z",
     "iopub.status.busy": "2022-06-09T16:52:42.951699Z",
     "iopub.status.idle": "2022-06-09T16:52:42.959762Z",
     "shell.execute_reply": "2022-06-09T16:52:42.958699Z",
     "shell.execute_reply.started": "2022-06-09T16:52:42.952122Z"
    }
   },
   "outputs": [],
   "source": [
    "df_1.shape"
   ]
  },
  {
   "cell_type": "code",
   "execution_count": null,
   "metadata": {
    "execution": {
     "iopub.execute_input": "2022-06-09T16:52:42.962676Z",
     "iopub.status.busy": "2022-06-09T16:52:42.962002Z",
     "iopub.status.idle": "2022-06-09T16:52:42.987203Z",
     "shell.execute_reply": "2022-06-09T16:52:42.986319Z",
     "shell.execute_reply.started": "2022-06-09T16:52:42.962630Z"
    }
   },
   "outputs": [],
   "source": [
    "df_1.info(verbose = True)"
   ]
  },
  {
   "cell_type": "code",
   "execution_count": null,
   "metadata": {
    "execution": {
     "iopub.execute_input": "2022-06-09T16:52:42.988761Z",
     "iopub.status.busy": "2022-06-09T16:52:42.988263Z",
     "iopub.status.idle": "2022-06-09T16:52:43.087382Z",
     "shell.execute_reply": "2022-06-09T16:52:43.086610Z",
     "shell.execute_reply.started": "2022-06-09T16:52:42.988717Z"
    },
    "scrolled": true
   },
   "outputs": [],
   "source": [
    "# \n",
    "df_1.head()"
   ]
  },
  {
   "cell_type": "code",
   "execution_count": null,
   "metadata": {
    "execution": {
     "iopub.execute_input": "2022-06-09T16:52:43.088966Z",
     "iopub.status.busy": "2022-06-09T16:52:43.088465Z",
     "iopub.status.idle": "2022-06-09T16:52:43.092983Z",
     "shell.execute_reply": "2022-06-09T16:52:43.092079Z",
     "shell.execute_reply.started": "2022-06-09T16:52:43.088935Z"
    }
   },
   "outputs": [],
   "source": [
    "## removing the columns that do not add any importance to the dataset."
   ]
  },
  {
   "cell_type": "code",
   "execution_count": null,
   "metadata": {
    "execution": {
     "iopub.execute_input": "2022-06-09T16:52:43.094730Z",
     "iopub.status.busy": "2022-06-09T16:52:43.094314Z",
     "iopub.status.idle": "2022-06-09T16:52:43.136625Z",
     "shell.execute_reply": "2022-06-09T16:52:43.135587Z",
     "shell.execute_reply.started": "2022-06-09T16:52:43.094699Z"
    }
   },
   "outputs": [],
   "source": [
    "# Id, member_id are unique numbers hence removing them.\n",
    "# url -- removing as it is not useful for our analysis.\n",
    "# desc -- removing as it is not useful for our analysis.\n",
    "# zip-code -- zip-code provided was not complete.\n",
    "df_1.drop(['id','member_id','url','desc','zip_code'],axis = 1,inplace = True)"
   ]
  },
  {
   "cell_type": "code",
   "execution_count": null,
   "metadata": {
    "execution": {
     "iopub.execute_input": "2022-06-09T16:52:43.138423Z",
     "iopub.status.busy": "2022-06-09T16:52:43.138081Z",
     "iopub.status.idle": "2022-06-09T16:52:43.224745Z",
     "shell.execute_reply": "2022-06-09T16:52:43.224046Z",
     "shell.execute_reply.started": "2022-06-09T16:52:43.138392Z"
    },
    "scrolled": true
   },
   "outputs": [],
   "source": [
    "df_1.head()"
   ]
  },
  {
   "cell_type": "code",
   "execution_count": null,
   "metadata": {
    "execution": {
     "iopub.execute_input": "2022-06-09T16:52:43.226395Z",
     "iopub.status.busy": "2022-06-09T16:52:43.225916Z",
     "iopub.status.idle": "2022-06-09T16:52:43.230217Z",
     "shell.execute_reply": "2022-06-09T16:52:43.229528Z",
     "shell.execute_reply.started": "2022-06-09T16:52:43.226363Z"
    }
   },
   "outputs": [],
   "source": [
    "# We are trying to predict if the loan can be approved or not to the customer \n",
    "# but We have few columns which have data post loan approval.\n",
    "# removing the columns that have data post approval.\n",
    "\n",
    "# Columns:\n",
    "# 1 \"delinq_2yrs\",\n",
    "# 2 \"revol_bal\"\n",
    "# 3 \"out_prncp\"\n",
    "# 4 \"total_pymnt\"\n",
    "# 5 \"total_rec_prncp\"\n",
    "# 6 \"total_rec_int\", \"total_rec_late_fee\", \"recoveries\", \"collection_recovery_fee\", \"last_pymnt_d\", \"last_pymnt_amnt\", \"next_pymnt_d\", \"chargeoff_within_12_mths\"\n",
    "\n"
   ]
  },
  {
   "cell_type": "code",
   "execution_count": null,
   "metadata": {
    "execution": {
     "iopub.execute_input": "2022-06-09T16:52:43.233462Z",
     "iopub.status.busy": "2022-06-09T16:52:43.232887Z",
     "iopub.status.idle": "2022-06-09T16:52:43.257313Z",
     "shell.execute_reply": "2022-06-09T16:52:43.256573Z",
     "shell.execute_reply.started": "2022-06-09T16:52:43.233428Z"
    }
   },
   "outputs": [],
   "source": [
    "df_1.drop(columns = [\"delinq_2yrs\", \"revol_bal\", \"out_prncp\", \"total_pymnt\", \"total_rec_prncp\", \"total_rec_int\", \"total_rec_late_fee\", \"recoveries\", \"collection_recovery_fee\", \"last_pymnt_d\", \"last_pymnt_amnt\", \"next_pymnt_d\", \"chargeoff_within_12_mths\"],axis = 1,inplace = True)"
   ]
  },
  {
   "cell_type": "code",
   "execution_count": null,
   "metadata": {
    "execution": {
     "iopub.execute_input": "2022-06-09T16:52:43.259289Z",
     "iopub.status.busy": "2022-06-09T16:52:43.258396Z",
     "iopub.status.idle": "2022-06-09T16:52:43.268987Z",
     "shell.execute_reply": "2022-06-09T16:52:43.268005Z",
     "shell.execute_reply.started": "2022-06-09T16:52:43.259252Z"
    },
    "scrolled": true
   },
   "outputs": [],
   "source": [
    "df_1.dtypes"
   ]
  },
  {
   "cell_type": "code",
   "execution_count": null,
   "metadata": {
    "execution": {
     "iopub.execute_input": "2022-06-09T16:52:43.270531Z",
     "iopub.status.busy": "2022-06-09T16:52:43.270170Z",
     "iopub.status.idle": "2022-06-09T16:52:43.634851Z",
     "shell.execute_reply": "2022-06-09T16:52:43.633562Z",
     "shell.execute_reply.started": "2022-06-09T16:52:43.270475Z"
    }
   },
   "outputs": [],
   "source": [
    "# Cheking the data distribution\n",
    "df_1.describe()"
   ]
  },
  {
   "cell_type": "code",
   "execution_count": null,
   "metadata": {
    "execution": {
     "iopub.execute_input": "2022-06-09T16:52:43.637021Z",
     "iopub.status.busy": "2022-06-09T16:52:43.636388Z",
     "iopub.status.idle": "2022-06-09T16:52:43.640962Z",
     "shell.execute_reply": "2022-06-09T16:52:43.639967Z",
     "shell.execute_reply.started": "2022-06-09T16:52:43.636987Z"
    }
   },
   "outputs": [],
   "source": [
    "# after checking the standard deviation of the data we can see that the pub_rec_bankruptcies have very less standard deviation among the data so removing the column\n",
    "# also many columns are null which we will adress in the next step."
   ]
  },
  {
   "cell_type": "code",
   "execution_count": null,
   "metadata": {
    "execution": {
     "iopub.execute_input": "2022-06-09T16:52:43.643388Z",
     "iopub.status.busy": "2022-06-09T16:52:43.642286Z",
     "iopub.status.idle": "2022-06-09T16:52:43.658940Z",
     "shell.execute_reply": "2022-06-09T16:52:43.657976Z",
     "shell.execute_reply.started": "2022-06-09T16:52:43.643343Z"
    }
   },
   "outputs": [],
   "source": [
    "df_1['pub_rec_bankruptcies'].value_counts() # as shown most of the data is 0.0"
   ]
  },
  {
   "cell_type": "code",
   "execution_count": null,
   "metadata": {
    "execution": {
     "iopub.execute_input": "2022-06-09T16:52:43.660735Z",
     "iopub.status.busy": "2022-06-09T16:52:43.660176Z",
     "iopub.status.idle": "2022-06-09T16:52:43.682877Z",
     "shell.execute_reply": "2022-06-09T16:52:43.682040Z",
     "shell.execute_reply.started": "2022-06-09T16:52:43.660702Z"
    }
   },
   "outputs": [],
   "source": [
    "df_1.drop(columns = ['pub_rec_bankruptcies'],axis = 1,inplace = True)"
   ]
  },
  {
   "cell_type": "code",
   "execution_count": null,
   "metadata": {
    "execution": {
     "iopub.execute_input": "2022-06-09T16:52:43.685115Z",
     "iopub.status.busy": "2022-06-09T16:52:43.683953Z",
     "iopub.status.idle": "2022-06-09T16:52:43.690767Z",
     "shell.execute_reply": "2022-06-09T16:52:43.689675Z",
     "shell.execute_reply.started": "2022-06-09T16:52:43.685073Z"
    }
   },
   "outputs": [],
   "source": [
    "# Checking the null values"
   ]
  },
  {
   "cell_type": "code",
   "execution_count": null,
   "metadata": {
    "execution": {
     "iopub.execute_input": "2022-06-09T16:52:43.692597Z",
     "iopub.status.busy": "2022-06-09T16:52:43.692094Z",
     "iopub.status.idle": "2022-06-09T16:52:43.798812Z",
     "shell.execute_reply": "2022-06-09T16:52:43.797828Z",
     "shell.execute_reply.started": "2022-06-09T16:52:43.692564Z"
    }
   },
   "outputs": [],
   "source": [
    "# Checking the null values present in the dataset.\n",
    "df_1.isnull().sum()/len(df_1) *100"
   ]
  },
  {
   "cell_type": "code",
   "execution_count": null,
   "metadata": {
    "execution": {
     "iopub.execute_input": "2022-06-09T16:52:43.800947Z",
     "iopub.status.busy": "2022-06-09T16:52:43.800466Z",
     "iopub.status.idle": "2022-06-09T16:52:43.805388Z",
     "shell.execute_reply": "2022-06-09T16:52:43.804236Z",
     "shell.execute_reply.started": "2022-06-09T16:52:43.800904Z"
    }
   },
   "outputs": [],
   "source": [
    "# lets drop the columns that havee more than 50% of the data as null values"
   ]
  },
  {
   "cell_type": "code",
   "execution_count": null,
   "metadata": {
    "execution": {
     "iopub.execute_input": "2022-06-09T16:52:43.809671Z",
     "iopub.status.busy": "2022-06-09T16:52:43.809086Z",
     "iopub.status.idle": "2022-06-09T16:52:43.906069Z",
     "shell.execute_reply": "2022-06-09T16:52:43.905034Z",
     "shell.execute_reply.started": "2022-06-09T16:52:43.809636Z"
    }
   },
   "outputs": [],
   "source": [
    "df_null_cols = df_1.isnull().sum()/len(df_1) *100\n"
   ]
  },
  {
   "cell_type": "code",
   "execution_count": null,
   "metadata": {
    "execution": {
     "iopub.execute_input": "2022-06-09T16:52:43.908068Z",
     "iopub.status.busy": "2022-06-09T16:52:43.907504Z",
     "iopub.status.idle": "2022-06-09T16:52:43.912024Z",
     "shell.execute_reply": "2022-06-09T16:52:43.911432Z",
     "shell.execute_reply.started": "2022-06-09T16:52:43.908028Z"
    }
   },
   "outputs": [],
   "source": [
    "df_cols = df_null_cols[df_null_cols < 50].index # getting only the columns that have null values less than 50%\n",
    "    "
   ]
  },
  {
   "cell_type": "code",
   "execution_count": null,
   "metadata": {
    "execution": {
     "iopub.execute_input": "2022-06-09T16:52:43.913782Z",
     "iopub.status.busy": "2022-06-09T16:52:43.913000Z",
     "iopub.status.idle": "2022-06-09T16:52:43.933366Z",
     "shell.execute_reply": "2022-06-09T16:52:43.932416Z",
     "shell.execute_reply.started": "2022-06-09T16:52:43.913735Z"
    }
   },
   "outputs": [],
   "source": [
    "df_2 = df_1[df_cols] # creating a final dataset with columns only having less than 50% of the dataset as null values"
   ]
  },
  {
   "cell_type": "code",
   "execution_count": null,
   "metadata": {
    "execution": {
     "iopub.execute_input": "2022-06-09T16:52:43.935442Z",
     "iopub.status.busy": "2022-06-09T16:52:43.934983Z",
     "iopub.status.idle": "2022-06-09T16:52:43.983415Z",
     "shell.execute_reply": "2022-06-09T16:52:43.982364Z",
     "shell.execute_reply.started": "2022-06-09T16:52:43.935399Z"
    }
   },
   "outputs": [],
   "source": [
    "df_2.sample(10)"
   ]
  },
  {
   "cell_type": "code",
   "execution_count": null,
   "metadata": {
    "execution": {
     "iopub.execute_input": "2022-06-09T16:52:43.985434Z",
     "iopub.status.busy": "2022-06-09T16:52:43.984971Z",
     "iopub.status.idle": "2022-06-09T16:52:43.992264Z",
     "shell.execute_reply": "2022-06-09T16:52:43.991376Z",
     "shell.execute_reply.started": "2022-06-09T16:52:43.985389Z"
    }
   },
   "outputs": [],
   "source": [
    "df_2.shape"
   ]
  },
  {
   "cell_type": "code",
   "execution_count": null,
   "metadata": {
    "execution": {
     "iopub.execute_input": "2022-06-09T16:52:43.994211Z",
     "iopub.status.busy": "2022-06-09T16:52:43.993629Z",
     "iopub.status.idle": "2022-06-09T16:52:44.008297Z",
     "shell.execute_reply": "2022-06-09T16:52:44.007208Z",
     "shell.execute_reply.started": "2022-06-09T16:52:43.994180Z"
    }
   },
   "outputs": [],
   "source": [
    "# Lets check at the datatypes for the columns\n",
    "df_2.dtypes"
   ]
  },
  {
   "cell_type": "code",
   "execution_count": null,
   "metadata": {
    "execution": {
     "iopub.execute_input": "2022-06-09T16:52:44.009772Z",
     "iopub.status.busy": "2022-06-09T16:52:44.009416Z",
     "iopub.status.idle": "2022-06-09T16:52:44.021891Z",
     "shell.execute_reply": "2022-06-09T16:52:44.020970Z",
     "shell.execute_reply.started": "2022-06-09T16:52:44.009741Z"
    }
   },
   "outputs": [],
   "source": [
    "# df_2['term'] # we can see that this columns can be made to numeric by removing the months in the column data.\n",
    "# df_2['int_rate'] # the percentage sign can be removed from the column data\n",
    "# df_2['emp_length'] # the values are having < and + symbols hence it was treated as object\n",
    "# df_2['issue_d'].unique() # can split the data into month and  year.\n",
    "# df_2['loan_status'].unique() # current status wont be effective for us to determine if the customer will pay the debt or not\n",
    "# df_2['last_credit_pull_d'].unique() # can split the data into month and year \n",
    "# df_2['revol_util'] # remove the percentages"
   ]
  },
  {
   "cell_type": "code",
   "execution_count": null,
   "metadata": {
    "execution": {
     "iopub.execute_input": "2022-06-09T16:52:44.023785Z",
     "iopub.status.busy": "2022-06-09T16:52:44.023377Z",
     "iopub.status.idle": "2022-06-09T16:52:44.167666Z",
     "shell.execute_reply": "2022-06-09T16:52:44.166750Z",
     "shell.execute_reply.started": "2022-06-09T16:52:44.023751Z"
    },
    "scrolled": true
   },
   "outputs": [],
   "source": [
    "# df_2['term'] # we can see that this columns can be made to numeric by removing the months in the column data.\n",
    "df_2['term'] = df_2['term'].str.strip(' months').astype(int)\n",
    "df_2['revol_util'] = df_2['revol_util'].str.strip('%').astype(float)\n",
    "df_2['int_rate'] = df_2['int_rate'].str.strip('%').astype(float)\n",
    "df_2['employee_years_of_service'] = df_2['emp_length'].str.strip(' years') # renaming the column as employee_years_of_service for better understanding"
   ]
  },
  {
   "cell_type": "code",
   "execution_count": null,
   "metadata": {},
   "outputs": [],
   "source": []
  },
  {
   "cell_type": "code",
   "execution_count": null,
   "metadata": {
    "execution": {
     "iopub.execute_input": "2022-06-09T16:52:44.170663Z",
     "iopub.status.busy": "2022-06-09T16:52:44.170306Z",
     "iopub.status.idle": "2022-06-09T16:52:44.269301Z",
     "shell.execute_reply": "2022-06-09T16:52:44.268322Z",
     "shell.execute_reply.started": "2022-06-09T16:52:44.170632Z"
    }
   },
   "outputs": [],
   "source": [
    "df_2.info()"
   ]
  },
  {
   "cell_type": "code",
   "execution_count": null,
   "metadata": {
    "execution": {
     "iopub.execute_input": "2022-06-09T16:52:44.270814Z",
     "iopub.status.busy": "2022-06-09T16:52:44.270437Z",
     "iopub.status.idle": "2022-06-09T16:52:51.657262Z",
     "shell.execute_reply": "2022-06-09T16:52:51.656274Z",
     "shell.execute_reply.started": "2022-06-09T16:52:44.270784Z"
    }
   },
   "outputs": [],
   "source": [
    "# df_2['issue_d'].unique() # can split the data into month and  year.\n",
    "df_2['issue_d'].str.split('-')"
   ]
  },
  {
   "cell_type": "code",
   "execution_count": null,
   "metadata": {
    "execution": {
     "iopub.execute_input": "2022-06-09T16:52:51.658863Z",
     "iopub.status.busy": "2022-06-09T16:52:51.658531Z",
     "iopub.status.idle": "2022-06-09T16:52:52.904431Z",
     "shell.execute_reply": "2022-06-09T16:52:52.903552Z",
     "shell.execute_reply.started": "2022-06-09T16:52:51.658833Z"
    }
   },
   "outputs": [],
   "source": [
    "df_2['issue_date_month'] = pd.to_datetime(df['issue_d'],format='%b-%y').dt.strftime('%m').astype(int) # %b - month abbrevation ,\n",
    "df_2['issue_date_year'] = pd.to_datetime(df['issue_d'],format = '%b-%y').dt.strftime('%Y') .astype(int)\n",
    "#_______________________________\n",
    "df_2['last_credit_pull_year']  = pd.to_datetime(df_2['last_credit_pull_d'],format = '%b-%y').dt.strftime('%Y')\n",
    "df_2['last_credit_pull_year'] = df_2['last_credit_pull_year'].astype(float).astype('Int64')\n",
    "#__________________________________\n",
    "df_2['last_credit_pull_month'] = pd.to_datetime(df_2['last_credit_pull_d'],format = '%b-%y').dt.strftime('%m')\n",
    "df_2['last_credit_pull_month']  =df_2['last_credit_pull_month'].astype(float).astype('Int64')"
   ]
  },
  {
   "cell_type": "code",
   "execution_count": null,
   "metadata": {
    "execution": {
     "iopub.execute_input": "2022-06-09T16:52:52.906862Z",
     "iopub.status.busy": "2022-06-09T16:52:52.905996Z",
     "iopub.status.idle": "2022-06-09T16:52:52.930744Z",
     "shell.execute_reply": "2022-06-09T16:52:52.929777Z",
     "shell.execute_reply.started": "2022-06-09T16:52:52.906822Z"
    },
    "scrolled": true
   },
   "outputs": [],
   "source": [
    "df_2.drop(columns = ['issue_d'],axis = 1 , inplace = True)"
   ]
  },
  {
   "cell_type": "code",
   "execution_count": null,
   "metadata": {
    "execution": {
     "iopub.execute_input": "2022-06-09T16:52:52.933916Z",
     "iopub.status.busy": "2022-06-09T16:52:52.933290Z",
     "iopub.status.idle": "2022-06-09T16:52:52.944173Z",
     "shell.execute_reply": "2022-06-09T16:52:52.943163Z",
     "shell.execute_reply.started": "2022-06-09T16:52:52.933871Z"
    }
   },
   "outputs": [],
   "source": [
    "df_2['loan_status'].unique()"
   ]
  },
  {
   "cell_type": "code",
   "execution_count": null,
   "metadata": {
    "execution": {
     "iopub.execute_input": "2022-06-09T16:52:52.945777Z",
     "iopub.status.busy": "2022-06-09T16:52:52.945394Z",
     "iopub.status.idle": "2022-06-09T16:52:52.970008Z",
     "shell.execute_reply": "2022-06-09T16:52:52.968931Z",
     "shell.execute_reply.started": "2022-06-09T16:52:52.945747Z"
    }
   },
   "outputs": [],
   "source": [
    "df_2 = df_2[(df_2['loan_status'] != 'Current')]"
   ]
  },
  {
   "cell_type": "code",
   "execution_count": null,
   "metadata": {
    "execution": {
     "iopub.execute_input": "2022-06-09T16:52:52.972993Z",
     "iopub.status.busy": "2022-06-09T16:52:52.972652Z",
     "iopub.status.idle": "2022-06-09T16:52:52.982182Z",
     "shell.execute_reply": "2022-06-09T16:52:52.981221Z",
     "shell.execute_reply.started": "2022-06-09T16:52:52.972964Z"
    }
   },
   "outputs": [],
   "source": [
    "df_2['loan_status'].unique()"
   ]
  },
  {
   "cell_type": "code",
   "execution_count": null,
   "metadata": {
    "execution": {
     "iopub.execute_input": "2022-06-09T16:52:52.984641Z",
     "iopub.status.busy": "2022-06-09T16:52:52.983800Z",
     "iopub.status.idle": "2022-06-09T16:52:53.021690Z",
     "shell.execute_reply": "2022-06-09T16:52:53.020709Z",
     "shell.execute_reply.started": "2022-06-09T16:52:52.984594Z"
    }
   },
   "outputs": [],
   "source": [
    "df_2['emp_length'].unique() # removing the years from the data , if the data has <1 we will make it 0 and if it is 10+ we will make it 10.\n",
    "df_2['employee_years_of_service'] = df_2['emp_length'].str.strip(' years') # renaming the column as employee_years_of_service for better understanding"
   ]
  },
  {
   "cell_type": "code",
   "execution_count": null,
   "metadata": {
    "execution": {
     "iopub.execute_input": "2022-06-09T16:52:53.023252Z",
     "iopub.status.busy": "2022-06-09T16:52:53.022918Z",
     "iopub.status.idle": "2022-06-09T16:52:53.080924Z",
     "shell.execute_reply": "2022-06-09T16:52:53.079890Z",
     "shell.execute_reply.started": "2022-06-09T16:52:53.023221Z"
    }
   },
   "outputs": [],
   "source": [
    "def symbol(x):\n",
    "    if '<' in x:\n",
    "        return 0\n",
    "    elif '+' in x:\n",
    "        year= int(x.split('+')[0])\n",
    "        return year\n",
    "    elif x == 'nan':\n",
    "        pass\n",
    "    else:\n",
    "        year=int(x.split(' ')[0])\n",
    "        return year\n",
    "    \n",
    "\n",
    "df_2['employee_years_of_service']=df_2['employee_years_of_service'].apply(lambda a:symbol(str(a)))\n"
   ]
  },
  {
   "cell_type": "code",
   "execution_count": null,
   "metadata": {
    "execution": {
     "iopub.execute_input": "2022-06-09T16:52:53.082947Z",
     "iopub.status.busy": "2022-06-09T16:52:53.082442Z",
     "iopub.status.idle": "2022-06-09T16:52:53.087469Z",
     "shell.execute_reply": "2022-06-09T16:52:53.086797Z",
     "shell.execute_reply.started": "2022-06-09T16:52:53.082915Z"
    }
   },
   "outputs": [],
   "source": [
    "df_2['employee_years_of_service'] = df_2['employee_years_of_service'].astype(float)"
   ]
  },
  {
   "cell_type": "code",
   "execution_count": null,
   "metadata": {
    "execution": {
     "iopub.execute_input": "2022-06-09T16:52:53.089119Z",
     "iopub.status.busy": "2022-06-09T16:52:53.088448Z",
     "iopub.status.idle": "2022-06-09T16:52:53.111045Z",
     "shell.execute_reply": "2022-06-09T16:52:53.109809Z",
     "shell.execute_reply.started": "2022-06-09T16:52:53.089083Z"
    }
   },
   "outputs": [],
   "source": [
    "df_2.drop(['emp_length'],axis = 1,inplace = True)"
   ]
  },
  {
   "cell_type": "code",
   "execution_count": null,
   "metadata": {
    "execution": {
     "iopub.execute_input": "2022-06-09T16:52:53.112711Z",
     "iopub.status.busy": "2022-06-09T16:52:53.112322Z",
     "iopub.status.idle": "2022-06-09T16:52:53.116572Z",
     "shell.execute_reply": "2022-06-09T16:52:53.115868Z",
     "shell.execute_reply.started": "2022-06-09T16:52:53.112677Z"
    }
   },
   "outputs": [],
   "source": [
    "# df_2['last_credit_pull_d']"
   ]
  },
  {
   "cell_type": "code",
   "execution_count": null,
   "metadata": {
    "execution": {
     "iopub.execute_input": "2022-06-09T16:52:53.118080Z",
     "iopub.status.busy": "2022-06-09T16:52:53.117655Z",
     "iopub.status.idle": "2022-06-09T16:52:53.434465Z",
     "shell.execute_reply": "2022-06-09T16:52:53.433731Z",
     "shell.execute_reply.started": "2022-06-09T16:52:53.118050Z"
    }
   },
   "outputs": [],
   "source": [
    "df_2['last_credit_pull_month'] = pd.to_datetime(df_2['last_credit_pull_d'],format = '%b-%y').dt.strftime('%m')\n",
    "df_2['last_credit_pull_month']  =df_2['last_credit_pull_month'].astype(float).astype('Int64')"
   ]
  },
  {
   "cell_type": "code",
   "execution_count": null,
   "metadata": {
    "execution": {
     "iopub.execute_input": "2022-06-09T16:52:53.436037Z",
     "iopub.status.busy": "2022-06-09T16:52:53.435582Z",
     "iopub.status.idle": "2022-06-09T16:52:53.743067Z",
     "shell.execute_reply": "2022-06-09T16:52:53.742048Z",
     "shell.execute_reply.started": "2022-06-09T16:52:53.436007Z"
    }
   },
   "outputs": [],
   "source": [
    "df_2['last_credit_pull_year']  = pd.to_datetime(df_2['last_credit_pull_d'],format = '%b-%y').dt.strftime('%Y')\n",
    "df_2['last_credit_pull_year'] = df_2['last_credit_pull_year'].astype(float).astype('Int64')"
   ]
  },
  {
   "cell_type": "code",
   "execution_count": null,
   "metadata": {
    "execution": {
     "iopub.execute_input": "2022-06-09T16:52:53.744604Z",
     "iopub.status.busy": "2022-06-09T16:52:53.744246Z",
     "iopub.status.idle": "2022-06-09T16:52:53.756059Z",
     "shell.execute_reply": "2022-06-09T16:52:53.755080Z",
     "shell.execute_reply.started": "2022-06-09T16:52:53.744572Z"
    }
   },
   "outputs": [],
   "source": [
    "df_2.drop(['last_credit_pull_d'],axis =1,inplace = True)"
   ]
  },
  {
   "cell_type": "code",
   "execution_count": null,
   "metadata": {
    "execution": {
     "iopub.execute_input": "2022-06-09T16:52:53.758039Z",
     "iopub.status.busy": "2022-06-09T16:52:53.757604Z",
     "iopub.status.idle": "2022-06-09T16:52:53.768039Z",
     "shell.execute_reply": "2022-06-09T16:52:53.767211Z",
     "shell.execute_reply.started": "2022-06-09T16:52:53.757996Z"
    }
   },
   "outputs": [],
   "source": [
    "df_2['revol_util'].head(5)"
   ]
  },
  {
   "cell_type": "code",
   "execution_count": null,
   "metadata": {
    "execution": {
     "iopub.execute_input": "2022-06-09T16:52:53.770095Z",
     "iopub.status.busy": "2022-06-09T16:52:53.769223Z",
     "iopub.status.idle": "2022-06-09T16:52:53.844390Z",
     "shell.execute_reply": "2022-06-09T16:52:53.843237Z",
     "shell.execute_reply.started": "2022-06-09T16:52:53.770052Z"
    }
   },
   "outputs": [],
   "source": [
    "df_2.info()"
   ]
  },
  {
   "cell_type": "code",
   "execution_count": null,
   "metadata": {
    "execution": {
     "iopub.execute_input": "2022-06-09T16:52:53.846379Z",
     "iopub.status.busy": "2022-06-09T16:52:53.845678Z",
     "iopub.status.idle": "2022-06-09T16:52:53.913912Z",
     "shell.execute_reply": "2022-06-09T16:52:53.912963Z",
     "shell.execute_reply.started": "2022-06-09T16:52:53.846343Z"
    }
   },
   "outputs": [],
   "source": [
    "df_2.info()"
   ]
  },
  {
   "cell_type": "code",
   "execution_count": null,
   "metadata": {
    "execution": {
     "iopub.execute_input": "2022-06-09T16:52:53.915819Z",
     "iopub.status.busy": "2022-06-09T16:52:53.915451Z",
     "iopub.status.idle": "2022-06-09T16:52:54.515167Z",
     "shell.execute_reply": "2022-06-09T16:52:54.513799Z",
     "shell.execute_reply.started": "2022-06-09T16:52:53.915788Z"
    }
   },
   "outputs": [],
   "source": [
    "df_2['earliest_cr_line_month'] = pd.to_datetime(df_2['earliest_cr_line'],format = '%b-%y').dt.strftime('%m').astype(float).astype('Int64')\n",
    "df_2['earliest_cr_line_year'] = pd.to_datetime(df_2['earliest_cr_line'],format = '%b-%y').dt.strftime('%Y').astype(float).astype('Int64')"
   ]
  },
  {
   "cell_type": "code",
   "execution_count": null,
   "metadata": {
    "execution": {
     "iopub.execute_input": "2022-06-09T16:52:54.517453Z",
     "iopub.status.busy": "2022-06-09T16:52:54.516988Z",
     "iopub.status.idle": "2022-06-09T16:52:54.530252Z",
     "shell.execute_reply": "2022-06-09T16:52:54.529139Z",
     "shell.execute_reply.started": "2022-06-09T16:52:54.517407Z"
    }
   },
   "outputs": [],
   "source": [
    "df_2.drop(['earliest_cr_line'],axis = 1,inplace = True)"
   ]
  },
  {
   "cell_type": "code",
   "execution_count": null,
   "metadata": {
    "execution": {
     "iopub.execute_input": "2022-06-09T16:52:54.532318Z",
     "iopub.status.busy": "2022-06-09T16:52:54.531865Z",
     "iopub.status.idle": "2022-06-09T16:52:54.605499Z",
     "shell.execute_reply": "2022-06-09T16:52:54.604540Z",
     "shell.execute_reply.started": "2022-06-09T16:52:54.532277Z"
    }
   },
   "outputs": [],
   "source": [
    "df_2.info()"
   ]
  },
  {
   "cell_type": "code",
   "execution_count": null,
   "metadata": {
    "execution": {
     "iopub.execute_input": "2022-06-09T16:52:54.607652Z",
     "iopub.status.busy": "2022-06-09T16:52:54.606780Z",
     "iopub.status.idle": "2022-06-09T16:52:54.611850Z",
     "shell.execute_reply": "2022-06-09T16:52:54.610946Z",
     "shell.execute_reply.started": "2022-06-09T16:52:54.607607Z"
    }
   },
   "outputs": [],
   "source": [
    "# Dealt with all the columns that were needed to be changed to int and float."
   ]
  },
  {
   "cell_type": "code",
   "execution_count": null,
   "metadata": {
    "execution": {
     "iopub.execute_input": "2022-06-09T16:52:54.614170Z",
     "iopub.status.busy": "2022-06-09T16:52:54.613172Z",
     "iopub.status.idle": "2022-06-09T16:52:54.795904Z",
     "shell.execute_reply": "2022-06-09T16:52:54.794825Z",
     "shell.execute_reply.started": "2022-06-09T16:52:54.614112Z"
    }
   },
   "outputs": [],
   "source": [
    "# Check how the data is distributed.\n",
    "unq = pd.DataFrame()\n",
    "unq['features'] = df_2.nunique().index\n",
    "unq['values'] = df_2.nunique().values"
   ]
  },
  {
   "cell_type": "code",
   "execution_count": null,
   "metadata": {
    "execution": {
     "iopub.execute_input": "2022-06-09T16:52:54.801816Z",
     "iopub.status.busy": "2022-06-09T16:52:54.801437Z",
     "iopub.status.idle": "2022-06-09T16:52:54.814134Z",
     "shell.execute_reply": "2022-06-09T16:52:54.813472Z",
     "shell.execute_reply.started": "2022-06-09T16:52:54.801783Z"
    }
   },
   "outputs": [],
   "source": [
    "unq.sort_values(by = ['values'])"
   ]
  },
  {
   "cell_type": "code",
   "execution_count": null,
   "metadata": {
    "execution": {
     "iopub.execute_input": "2022-06-09T16:52:54.815639Z",
     "iopub.status.busy": "2022-06-09T16:52:54.815198Z",
     "iopub.status.idle": "2022-06-09T16:52:54.833835Z",
     "shell.execute_reply": "2022-06-09T16:52:54.832874Z",
     "shell.execute_reply.started": "2022-06-09T16:52:54.815601Z"
    }
   },
   "outputs": [],
   "source": [
    "# there are so many columns with only single value so they donot add any significance to our model.\n",
    "# removing the single valued columns\n",
    "df_2.drop(['collections_12_mths_ex_med',\n",
    "'initial_list_status',\n",
    "'policy_code',\n",
    "'application_type',\n",
    "'acc_now_delinq',\n",
    "'delinq_amnt',\n",
    "'pymnt_plan',\n",
    "'out_prncp_inv',\n",
    "'tax_liens'],axis = 1,inplace = True)"
   ]
  },
  {
   "cell_type": "code",
   "execution_count": null,
   "metadata": {
    "execution": {
     "iopub.execute_input": "2022-06-09T16:52:54.836519Z",
     "iopub.status.busy": "2022-06-09T16:52:54.835442Z",
     "iopub.status.idle": "2022-06-09T16:52:54.894773Z",
     "shell.execute_reply": "2022-06-09T16:52:54.894072Z",
     "shell.execute_reply.started": "2022-06-09T16:52:54.836436Z"
    }
   },
   "outputs": [],
   "source": [
    "df_2.info()"
   ]
  },
  {
   "cell_type": "code",
   "execution_count": null,
   "metadata": {
    "execution": {
     "iopub.execute_input": "2022-06-09T16:52:54.896081Z",
     "iopub.status.busy": "2022-06-09T16:52:54.895670Z",
     "iopub.status.idle": "2022-06-09T16:52:54.951970Z",
     "shell.execute_reply": "2022-06-09T16:52:54.950456Z",
     "shell.execute_reply.started": "2022-06-09T16:52:54.896051Z"
    }
   },
   "outputs": [],
   "source": [
    "df_2.isnull().sum()/len(df_1) *100"
   ]
  },
  {
   "cell_type": "code",
   "execution_count": null,
   "metadata": {
    "execution": {
     "iopub.execute_input": "2022-06-09T16:52:54.953679Z",
     "iopub.status.busy": "2022-06-09T16:52:54.953299Z",
     "iopub.status.idle": "2022-06-09T16:52:54.958911Z",
     "shell.execute_reply": "2022-06-09T16:52:54.957785Z",
     "shell.execute_reply.started": "2022-06-09T16:52:54.953647Z"
    }
   },
   "outputs": [],
   "source": [
    "# we null values in \n",
    "# employee_years_of_service - 2%\n",
    "# emp_title - 6%\n",
    "## -- will remove the null values that are less than 1% and try to fill the null values with 2% and 6% with mean or median in case of numerical variables and mode in case of categorical variables.\n",
    "# title <1%\n",
    "# last_credit_pull_year  - <1 %\n",
    "# last_credit_pull_year- <1%\n",
    "# revol_util  - <1%"
   ]
  },
  {
   "cell_type": "code",
   "execution_count": null,
   "metadata": {
    "execution": {
     "iopub.execute_input": "2022-06-09T16:52:54.960763Z",
     "iopub.status.busy": "2022-06-09T16:52:54.960393Z",
     "iopub.status.idle": "2022-06-09T16:52:54.973923Z",
     "shell.execute_reply": "2022-06-09T16:52:54.972686Z",
     "shell.execute_reply.started": "2022-06-09T16:52:54.960732Z"
    }
   },
   "outputs": [],
   "source": [
    "# Before filling the data checking the skewness of the numerical data."
   ]
  },
  {
   "cell_type": "code",
   "execution_count": null,
   "metadata": {
    "execution": {
     "iopub.execute_input": "2022-06-09T16:52:54.976158Z",
     "iopub.status.busy": "2022-06-09T16:52:54.975432Z",
     "iopub.status.idle": "2022-06-09T16:52:54.988327Z",
     "shell.execute_reply": "2022-06-09T16:52:54.987239Z",
     "shell.execute_reply.started": "2022-06-09T16:52:54.976122Z"
    }
   },
   "outputs": [],
   "source": [
    "df_2['employee_years_of_service'].skew()"
   ]
  },
  {
   "cell_type": "code",
   "execution_count": null,
   "metadata": {
    "execution": {
     "iopub.execute_input": "2022-06-09T16:52:54.990555Z",
     "iopub.status.busy": "2022-06-09T16:52:54.989825Z",
     "iopub.status.idle": "2022-06-09T16:52:55.390258Z",
     "shell.execute_reply": "2022-06-09T16:52:55.389183Z",
     "shell.execute_reply.started": "2022-06-09T16:52:54.990510Z"
    }
   },
   "outputs": [],
   "source": [
    "sns.distplot(df_2['employee_years_of_service'])"
   ]
  },
  {
   "cell_type": "code",
   "execution_count": null,
   "metadata": {
    "execution": {
     "iopub.execute_input": "2022-06-09T16:52:55.392337Z",
     "iopub.status.busy": "2022-06-09T16:52:55.391865Z",
     "iopub.status.idle": "2022-06-09T16:52:55.396873Z",
     "shell.execute_reply": "2022-06-09T16:52:55.395882Z",
     "shell.execute_reply.started": "2022-06-09T16:52:55.392293Z"
    }
   },
   "outputs": [],
   "source": [
    "# The data is slightly right skewed and is mesokurtick\n",
    "# Going with median for filling the null values for employee_years_of_service feature."
   ]
  },
  {
   "cell_type": "code",
   "execution_count": null,
   "metadata": {
    "execution": {
     "iopub.execute_input": "2022-06-09T16:52:55.399082Z",
     "iopub.status.busy": "2022-06-09T16:52:55.398632Z",
     "iopub.status.idle": "2022-06-09T16:52:55.415256Z",
     "shell.execute_reply": "2022-06-09T16:52:55.414235Z",
     "shell.execute_reply.started": "2022-06-09T16:52:55.399041Z"
    }
   },
   "outputs": [],
   "source": [
    "df_2['employee_years_of_service'] = df_2['employee_years_of_service'].fillna(df_2['employee_years_of_service'].median())"
   ]
  },
  {
   "cell_type": "code",
   "execution_count": null,
   "metadata": {
    "execution": {
     "iopub.execute_input": "2022-06-09T16:52:55.417204Z",
     "iopub.status.busy": "2022-06-09T16:52:55.416544Z",
     "iopub.status.idle": "2022-06-09T16:52:55.470156Z",
     "shell.execute_reply": "2022-06-09T16:52:55.469252Z",
     "shell.execute_reply.started": "2022-06-09T16:52:55.417162Z"
    }
   },
   "outputs": [],
   "source": [
    "df_2.isnull().sum()/len(df_1) *100"
   ]
  },
  {
   "cell_type": "code",
   "execution_count": null,
   "metadata": {
    "execution": {
     "iopub.execute_input": "2022-06-09T16:52:55.472154Z",
     "iopub.status.busy": "2022-06-09T16:52:55.471682Z",
     "iopub.status.idle": "2022-06-09T16:52:55.500707Z",
     "shell.execute_reply": "2022-06-09T16:52:55.499714Z",
     "shell.execute_reply.started": "2022-06-09T16:52:55.472110Z"
    }
   },
   "outputs": [],
   "source": [
    "df_2['emp_title'] = df_2['emp_title'].fillna(df_2['emp_title'].mode())"
   ]
  },
  {
   "cell_type": "code",
   "execution_count": null,
   "metadata": {
    "execution": {
     "iopub.execute_input": "2022-06-09T16:52:55.502700Z",
     "iopub.status.busy": "2022-06-09T16:52:55.501986Z",
     "iopub.status.idle": "2022-06-09T16:52:55.551590Z",
     "shell.execute_reply": "2022-06-09T16:52:55.550635Z",
     "shell.execute_reply.started": "2022-06-09T16:52:55.502669Z"
    }
   },
   "outputs": [],
   "source": [
    "df_2.isnull().sum()/len(df_1) *100"
   ]
  },
  {
   "cell_type": "code",
   "execution_count": null,
   "metadata": {
    "execution": {
     "iopub.execute_input": "2022-06-09T16:52:55.553676Z",
     "iopub.status.busy": "2022-06-09T16:52:55.553070Z",
     "iopub.status.idle": "2022-06-09T16:52:55.581570Z",
     "shell.execute_reply": "2022-06-09T16:52:55.580723Z",
     "shell.execute_reply.started": "2022-06-09T16:52:55.553635Z"
    }
   },
   "outputs": [],
   "source": [
    "df_2['emp_title'] = df_2['emp_title'].fillna(df_2['emp_title'].mode()[0])"
   ]
  },
  {
   "cell_type": "code",
   "execution_count": null,
   "metadata": {
    "execution": {
     "iopub.execute_input": "2022-06-09T16:52:55.583412Z",
     "iopub.status.busy": "2022-06-09T16:52:55.582943Z",
     "iopub.status.idle": "2022-06-09T16:52:55.639727Z",
     "shell.execute_reply": "2022-06-09T16:52:55.638707Z",
     "shell.execute_reply.started": "2022-06-09T16:52:55.583368Z"
    }
   },
   "outputs": [],
   "source": [
    "df_2.isnull().sum()/len(df_1) *100"
   ]
  },
  {
   "cell_type": "code",
   "execution_count": null,
   "metadata": {
    "execution": {
     "iopub.execute_input": "2022-06-09T16:52:55.642112Z",
     "iopub.status.busy": "2022-06-09T16:52:55.641124Z",
     "iopub.status.idle": "2022-06-09T16:52:55.698306Z",
     "shell.execute_reply": "2022-06-09T16:52:55.697412Z",
     "shell.execute_reply.started": "2022-06-09T16:52:55.642066Z"
    }
   },
   "outputs": [],
   "source": [
    "# removing the rest of the null values as there are less than 1 % null values\n",
    "\n",
    "df_2.dropna(inplace = True) # by default the how = 'any' and axis = 0 (rows)"
   ]
  },
  {
   "cell_type": "code",
   "execution_count": null,
   "metadata": {
    "execution": {
     "iopub.execute_input": "2022-06-09T16:52:55.700294Z",
     "iopub.status.busy": "2022-06-09T16:52:55.699877Z",
     "iopub.status.idle": "2022-06-09T16:52:55.752243Z",
     "shell.execute_reply": "2022-06-09T16:52:55.751235Z",
     "shell.execute_reply.started": "2022-06-09T16:52:55.700252Z"
    }
   },
   "outputs": [],
   "source": [
    "df_2.isnull().sum()/len(df_1) *100"
   ]
  },
  {
   "cell_type": "code",
   "execution_count": null,
   "metadata": {
    "execution": {
     "iopub.execute_input": "2022-06-09T16:52:55.755111Z",
     "iopub.status.busy": "2022-06-09T16:52:55.754672Z",
     "iopub.status.idle": "2022-06-09T16:52:55.760892Z",
     "shell.execute_reply": "2022-06-09T16:52:55.760000Z",
     "shell.execute_reply.started": "2022-06-09T16:52:55.755070Z"
    }
   },
   "outputs": [],
   "source": [
    "# There are no null values anymore.\n",
    "df_2.shape #we have 30 columns and 38514 rows\n",
    "# making this as the final dataset\n"
   ]
  },
  {
   "cell_type": "code",
   "execution_count": null,
   "metadata": {
    "execution": {
     "iopub.execute_input": "2022-06-09T16:52:55.762356Z",
     "iopub.status.busy": "2022-06-09T16:52:55.762029Z",
     "iopub.status.idle": "2022-06-09T16:52:55.773909Z",
     "shell.execute_reply": "2022-06-09T16:52:55.772901Z",
     "shell.execute_reply.started": "2022-06-09T16:52:55.762326Z"
    }
   },
   "outputs": [],
   "source": [
    "df_2.shape"
   ]
  },
  {
   "cell_type": "code",
   "execution_count": null,
   "metadata": {
    "execution": {
     "iopub.execute_input": "2022-06-09T16:52:55.775754Z",
     "iopub.status.busy": "2022-06-09T16:52:55.775267Z",
     "iopub.status.idle": "2022-06-09T16:52:55.782934Z",
     "shell.execute_reply": "2022-06-09T16:52:55.781930Z",
     "shell.execute_reply.started": "2022-06-09T16:52:55.775707Z"
    }
   },
   "outputs": [],
   "source": [
    "# lets check for the outliers in the data."
   ]
  },
  {
   "cell_type": "code",
   "execution_count": null,
   "metadata": {
    "execution": {
     "iopub.execute_input": "2022-06-09T16:52:55.785137Z",
     "iopub.status.busy": "2022-06-09T16:52:55.784202Z",
     "iopub.status.idle": "2022-06-09T16:52:55.804147Z",
     "shell.execute_reply": "2022-06-09T16:52:55.803356Z",
     "shell.execute_reply.started": "2022-06-09T16:52:55.785097Z"
    }
   },
   "outputs": [],
   "source": [
    "cat_cols = df_2.select_dtypes(include=  'object').columns\n",
    "num_cols = df_2.select_dtypes(include = ('int','float','int64')).columns"
   ]
  },
  {
   "cell_type": "code",
   "execution_count": null,
   "metadata": {
    "execution": {
     "iopub.execute_input": "2022-06-09T16:52:55.805736Z",
     "iopub.status.busy": "2022-06-09T16:52:55.805263Z",
     "iopub.status.idle": "2022-06-09T16:52:55.812299Z",
     "shell.execute_reply": "2022-06-09T16:52:55.811530Z",
     "shell.execute_reply.started": "2022-06-09T16:52:55.805692Z"
    }
   },
   "outputs": [],
   "source": [
    "cat_cols"
   ]
  },
  {
   "cell_type": "code",
   "execution_count": null,
   "metadata": {
    "execution": {
     "iopub.execute_input": "2022-06-09T16:52:55.814210Z",
     "iopub.status.busy": "2022-06-09T16:52:55.813814Z",
     "iopub.status.idle": "2022-06-09T16:52:55.828220Z",
     "shell.execute_reply": "2022-06-09T16:52:55.827398Z",
     "shell.execute_reply.started": "2022-06-09T16:52:55.814178Z"
    }
   },
   "outputs": [],
   "source": [
    "num_cols"
   ]
  },
  {
   "cell_type": "code",
   "execution_count": null,
   "metadata": {
    "execution": {
     "iopub.execute_input": "2022-06-09T16:52:55.830209Z",
     "iopub.status.busy": "2022-06-09T16:52:55.829705Z",
     "iopub.status.idle": "2022-06-09T16:52:55.886864Z",
     "shell.execute_reply": "2022-06-09T16:52:55.886016Z",
     "shell.execute_reply.started": "2022-06-09T16:52:55.830176Z"
    }
   },
   "outputs": [],
   "source": [
    "df_2.info()"
   ]
  },
  {
   "cell_type": "code",
   "execution_count": null,
   "metadata": {
    "execution": {
     "iopub.execute_input": "2022-06-09T16:52:55.888189Z",
     "iopub.status.busy": "2022-06-09T16:52:55.887892Z",
     "iopub.status.idle": "2022-06-09T16:52:57.545663Z",
     "shell.execute_reply": "2022-06-09T16:52:57.544677Z",
     "shell.execute_reply.started": "2022-06-09T16:52:55.888162Z"
    }
   },
   "outputs": [],
   "source": [
    "plt.figure(figsize= (35,5))\n",
    "df_2[num_cols].boxplot()"
   ]
  },
  {
   "cell_type": "code",
   "execution_count": null,
   "metadata": {
    "execution": {
     "iopub.execute_input": "2022-06-09T16:52:57.547707Z",
     "iopub.status.busy": "2022-06-09T16:52:57.547325Z",
     "iopub.status.idle": "2022-06-09T16:52:57.559234Z",
     "shell.execute_reply": "2022-06-09T16:52:57.558457Z",
     "shell.execute_reply.started": "2022-06-09T16:52:57.547673Z"
    }
   },
   "outputs": [],
   "source": [
    "# We can see alot of outliers in the dataset.\n",
    "# we can remove the outliers using the IQR.\n",
    "df_2['funded_amnt_inv'].quantile(0.75)\n",
    "df_2['funded_amnt_inv'].quantile(0.25)"
   ]
  },
  {
   "cell_type": "code",
   "execution_count": null,
   "metadata": {
    "execution": {
     "iopub.execute_input": "2022-06-09T16:52:57.561532Z",
     "iopub.status.busy": "2022-06-09T16:52:57.560702Z",
     "iopub.status.idle": "2022-06-09T16:52:57.620221Z",
     "shell.execute_reply": "2022-06-09T16:52:57.619445Z",
     "shell.execute_reply.started": "2022-06-09T16:52:57.561465Z"
    },
    "scrolled": true
   },
   "outputs": [],
   "source": [
    "df_2.skew().sort_values(ascending = False)"
   ]
  },
  {
   "cell_type": "code",
   "execution_count": null,
   "metadata": {
    "execution": {
     "iopub.execute_input": "2022-06-09T16:52:57.621942Z",
     "iopub.status.busy": "2022-06-09T16:52:57.621418Z",
     "iopub.status.idle": "2022-06-09T16:52:57.625564Z",
     "shell.execute_reply": "2022-06-09T16:52:57.624554Z",
     "shell.execute_reply.started": "2022-06-09T16:52:57.621908Z"
    }
   },
   "outputs": [],
   "source": [
    "# annual_inc has more outliers \n",
    "# and pub_rec\n",
    "# so we will remove those outliers and have the restr of the data left alone."
   ]
  },
  {
   "cell_type": "code",
   "execution_count": null,
   "metadata": {
    "execution": {
     "iopub.execute_input": "2022-06-09T16:52:57.627123Z",
     "iopub.status.busy": "2022-06-09T16:52:57.626742Z",
     "iopub.status.idle": "2022-06-09T16:52:57.643571Z",
     "shell.execute_reply": "2022-06-09T16:52:57.642442Z",
     "shell.execute_reply.started": "2022-06-09T16:52:57.627081Z"
    }
   },
   "outputs": [],
   "source": [
    "df_3=  df_2.copy()"
   ]
  },
  {
   "cell_type": "code",
   "execution_count": null,
   "metadata": {
    "execution": {
     "iopub.execute_input": "2022-06-09T16:52:57.645375Z",
     "iopub.status.busy": "2022-06-09T16:52:57.644949Z",
     "iopub.status.idle": "2022-06-09T16:52:57.680298Z",
     "shell.execute_reply": "2022-06-09T16:52:57.679447Z",
     "shell.execute_reply.started": "2022-06-09T16:52:57.645342Z"
    }
   },
   "outputs": [],
   "source": [
    "df_3.head()"
   ]
  },
  {
   "cell_type": "code",
   "execution_count": null,
   "metadata": {
    "execution": {
     "iopub.execute_input": "2022-06-09T16:52:57.682458Z",
     "iopub.status.busy": "2022-06-09T16:52:57.681414Z",
     "iopub.status.idle": "2022-06-09T16:52:57.706852Z",
     "shell.execute_reply": "2022-06-09T16:52:57.706025Z",
     "shell.execute_reply.started": "2022-06-09T16:52:57.682418Z"
    }
   },
   "outputs": [],
   "source": [
    "\n",
    "Q3 = df_3['annual_inc'].quantile(0.75)\n",
    "Q1 = df_3['annual_inc'].quantile(0.25)\n",
    "IQR = Q3-Q1\n",
    "df_3 = df_3[(df_3['annual_inc']>(Q1-1.5*IQR)) &  (df_3['annual_inc']<(Q3+1.5*IQR))] # getting the data into new column so that we will have backup of the data "
   ]
  },
  {
   "cell_type": "code",
   "execution_count": null,
   "metadata": {
    "execution": {
     "iopub.execute_input": "2022-06-09T16:52:57.708447Z",
     "iopub.status.busy": "2022-06-09T16:52:57.708004Z",
     "iopub.status.idle": "2022-06-09T16:52:57.741197Z",
     "shell.execute_reply": "2022-06-09T16:52:57.740440Z",
     "shell.execute_reply.started": "2022-06-09T16:52:57.708416Z"
    }
   },
   "outputs": [],
   "source": [
    "df_3.head()"
   ]
  },
  {
   "cell_type": "code",
   "execution_count": null,
   "metadata": {
    "execution": {
     "iopub.execute_input": "2022-06-09T16:52:57.742689Z",
     "iopub.status.busy": "2022-06-09T16:52:57.742250Z",
     "iopub.status.idle": "2022-06-09T16:52:57.749592Z",
     "shell.execute_reply": "2022-06-09T16:52:57.748576Z",
     "shell.execute_reply.started": "2022-06-09T16:52:57.742652Z"
    }
   },
   "outputs": [],
   "source": [
    "df_3['annual_inc'].skew()"
   ]
  },
  {
   "cell_type": "code",
   "execution_count": null,
   "metadata": {
    "execution": {
     "iopub.execute_input": "2022-06-09T16:52:57.751221Z",
     "iopub.status.busy": "2022-06-09T16:52:57.750779Z",
     "iopub.status.idle": "2022-06-09T16:52:57.811551Z",
     "shell.execute_reply": "2022-06-09T16:52:57.810570Z",
     "shell.execute_reply.started": "2022-06-09T16:52:57.751191Z"
    },
    "scrolled": true
   },
   "outputs": [],
   "source": [
    "df_3.skew()"
   ]
  },
  {
   "cell_type": "code",
   "execution_count": null,
   "metadata": {
    "execution": {
     "iopub.execute_input": "2022-06-09T16:52:57.813820Z",
     "iopub.status.busy": "2022-06-09T16:52:57.812839Z",
     "iopub.status.idle": "2022-06-09T16:52:57.821300Z",
     "shell.execute_reply": "2022-06-09T16:52:57.820571Z",
     "shell.execute_reply.started": "2022-06-09T16:52:57.813770Z"
    }
   },
   "outputs": [],
   "source": [
    "# most of the data are '0's so removing the column.\n",
    "df_3['pub_rec'].value_counts()"
   ]
  },
  {
   "cell_type": "code",
   "execution_count": null,
   "metadata": {
    "execution": {
     "iopub.execute_input": "2022-06-09T16:52:57.822839Z",
     "iopub.status.busy": "2022-06-09T16:52:57.822341Z",
     "iopub.status.idle": "2022-06-09T16:52:57.838221Z",
     "shell.execute_reply": "2022-06-09T16:52:57.837022Z",
     "shell.execute_reply.started": "2022-06-09T16:52:57.822803Z"
    }
   },
   "outputs": [],
   "source": [
    "df_3.drop('pub_rec',axis = 1,inplace = True)"
   ]
  },
  {
   "cell_type": "code",
   "execution_count": null,
   "metadata": {
    "execution": {
     "iopub.execute_input": "2022-06-09T16:52:57.840399Z",
     "iopub.status.busy": "2022-06-09T16:52:57.839687Z",
     "iopub.status.idle": "2022-06-09T16:52:57.855101Z",
     "shell.execute_reply": "2022-06-09T16:52:57.854092Z",
     "shell.execute_reply.started": "2022-06-09T16:52:57.840354Z"
    }
   },
   "outputs": [],
   "source": [
    "df_3.dtypes"
   ]
  },
  {
   "cell_type": "code",
   "execution_count": null,
   "metadata": {
    "execution": {
     "iopub.execute_input": "2022-06-09T16:52:57.857352Z",
     "iopub.status.busy": "2022-06-09T16:52:57.856399Z",
     "iopub.status.idle": "2022-06-09T16:52:57.873137Z",
     "shell.execute_reply": "2022-06-09T16:52:57.872099Z",
     "shell.execute_reply.started": "2022-06-09T16:52:57.857300Z"
    },
    "scrolled": true
   },
   "outputs": [],
   "source": [
    "df = df_3.copy()"
   ]
  },
  {
   "cell_type": "code",
   "execution_count": null,
   "metadata": {
    "execution": {
     "iopub.execute_input": "2022-06-09T16:52:57.875826Z",
     "iopub.status.busy": "2022-06-09T16:52:57.874568Z",
     "iopub.status.idle": "2022-06-09T16:52:57.908682Z",
     "shell.execute_reply": "2022-06-09T16:52:57.907548Z",
     "shell.execute_reply.started": "2022-06-09T16:52:57.875782Z"
    }
   },
   "outputs": [],
   "source": [
    "df_3.head()"
   ]
  },
  {
   "cell_type": "markdown",
   "metadata": {},
   "source": [
    "# Exploratory Data Analysis"
   ]
  },
  {
   "cell_type": "markdown",
   "metadata": {
    "papermill": {
     "duration": 0.204151,
     "end_time": "2021-05-23T13:54:24.240864",
     "exception": false,
     "start_time": "2021-05-23T13:54:24.036713",
     "status": "completed"
    },
    "tags": []
   },
   "source": [
    "# UNIVARIATE & BIVARIATE ANALYSIS"
   ]
  },
  {
   "cell_type": "markdown",
   "metadata": {
    "papermill": {
     "duration": 0.200662,
     "end_time": "2021-05-23T13:54:24.643088",
     "exception": false,
     "start_time": "2021-05-23T13:54:24.442426",
     "status": "completed"
    },
    "tags": []
   },
   "source": [
    "### Categorical variables present after data cleaning"
   ]
  },
  {
   "cell_type": "code",
   "execution_count": null,
   "metadata": {
    "execution": {
     "iopub.execute_input": "2022-06-09T16:52:57.911027Z",
     "iopub.status.busy": "2022-06-09T16:52:57.910329Z",
     "iopub.status.idle": "2022-06-09T16:52:57.924023Z",
     "shell.execute_reply": "2022-06-09T16:52:57.922741Z",
     "shell.execute_reply.started": "2022-06-09T16:52:57.910966Z"
    },
    "papermill": {
     "duration": 0.221764,
     "end_time": "2021-05-23T13:54:25.065139",
     "exception": false,
     "start_time": "2021-05-23T13:54:24.843375",
     "status": "completed"
    },
    "tags": []
   },
   "outputs": [],
   "source": [
    "df.select_dtypes('object').columns"
   ]
  },
  {
   "cell_type": "markdown",
   "metadata": {
    "papermill": {
     "duration": 0.200619,
     "end_time": "2021-05-23T13:54:25.489608",
     "exception": false,
     "start_time": "2021-05-23T13:54:25.288989",
     "status": "completed"
    },
    "tags": []
   },
   "source": [
    "### Numerical variables present after data cleaning"
   ]
  },
  {
   "cell_type": "code",
   "execution_count": null,
   "metadata": {
    "execution": {
     "iopub.execute_input": "2022-06-09T16:52:57.926216Z",
     "iopub.status.busy": "2022-06-09T16:52:57.925803Z",
     "iopub.status.idle": "2022-06-09T16:52:57.937367Z",
     "shell.execute_reply": "2022-06-09T16:52:57.935908Z",
     "shell.execute_reply.started": "2022-06-09T16:52:57.926182Z"
    },
    "papermill": {
     "duration": 0.216222,
     "end_time": "2021-05-23T13:54:25.904902",
     "exception": false,
     "start_time": "2021-05-23T13:54:25.68868",
     "status": "completed"
    },
    "tags": []
   },
   "outputs": [],
   "source": [
    "df.select_dtypes(include=np.number).columns"
   ]
  },
  {
   "cell_type": "markdown",
   "metadata": {
    "papermill": {
     "duration": 0.206472,
     "end_time": "2021-05-23T13:54:26.316744",
     "exception": false,
     "start_time": "2021-05-23T13:54:26.110272",
     "status": "completed"
    },
    "tags": []
   },
   "source": [
    "## Distribution of Target variable"
   ]
  },
  {
   "cell_type": "code",
   "execution_count": null,
   "metadata": {
    "execution": {
     "iopub.execute_input": "2022-06-09T16:52:57.939624Z",
     "iopub.status.busy": "2022-06-09T16:52:57.938977Z",
     "iopub.status.idle": "2022-06-09T16:52:58.224521Z",
     "shell.execute_reply": "2022-06-09T16:52:58.223629Z",
     "shell.execute_reply.started": "2022-06-09T16:52:57.939576Z"
    },
    "papermill": {
     "duration": 0.425635,
     "end_time": "2021-05-23T13:54:26.948993",
     "exception": false,
     "start_time": "2021-05-23T13:54:26.523358",
     "status": "completed"
    },
    "tags": []
   },
   "outputs": [],
   "source": [
    "# # Target variable\n",
    "\n",
    "fig,axes=plt.subplots(1,2,figsize=(10,5))\n",
    "d1=df['loan_status'].value_counts()\n",
    "axes[0].bar(d1.index,d1.values)\n",
    "axes[1].pie(d1.values,labels=d1.index,autopct='%0.2f%%')\n",
    "axes[0].set_title('Loan status',fontsize=15)\n",
    "axes[1].set_title('Pecentage of loan status',fontsize=15)\n",
    "\n",
    "plt.show()"
   ]
  },
  {
   "cell_type": "markdown",
   "metadata": {
    "papermill": {
     "duration": 0.204587,
     "end_time": "2021-05-23T13:54:27.366393",
     "exception": false,
     "start_time": "2021-05-23T13:54:27.161806",
     "status": "completed"
    },
    "tags": []
   },
   "source": [
    "1. From the above plot , we ca say that 14.46 % people are the loan defaulters.\n",
    "2. There are around 5232 people of total 36194 people who are loan defaulters."
   ]
  },
  {
   "cell_type": "markdown",
   "metadata": {
    "papermill": {
     "duration": 0.207224,
     "end_time": "2021-05-23T13:54:27.780266",
     "exception": false,
     "start_time": "2021-05-23T13:54:27.573042",
     "status": "completed"
    },
    "tags": []
   },
   "source": [
    "## Convert target variable into numerical variable"
   ]
  },
  {
   "cell_type": "code",
   "execution_count": null,
   "metadata": {
    "execution": {
     "iopub.execute_input": "2022-06-09T16:52:58.226073Z",
     "iopub.status.busy": "2022-06-09T16:52:58.225731Z",
     "iopub.status.idle": "2022-06-09T16:52:58.257851Z",
     "shell.execute_reply": "2022-06-09T16:52:58.256794Z",
     "shell.execute_reply.started": "2022-06-09T16:52:58.226042Z"
    },
    "papermill": {
     "duration": 0.232188,
     "end_time": "2021-05-23T13:54:28.223335",
     "exception": false,
     "start_time": "2021-05-23T13:54:27.991147",
     "status": "completed"
    },
    "tags": []
   },
   "outputs": [],
   "source": [
    "# target variable converted into 1's & 0''s\n",
    "# loan defaulters are charged off people therefore charged off=1\n",
    "# 0 : Fully paid\n",
    "# 1 : Charged off\n",
    "\n",
    "df['loan_status']=df['loan_status'].replace({'Fully Paid':0,'Charged Off':1})\n"
   ]
  },
  {
   "cell_type": "markdown",
   "metadata": {
    "papermill": {
     "duration": 0.204438,
     "end_time": "2021-05-23T13:54:28.629539",
     "exception": false,
     "start_time": "2021-05-23T13:54:28.425101",
     "status": "completed"
    },
    "tags": []
   },
   "source": [
    "## Loan Purpose"
   ]
  },
  {
   "cell_type": "code",
   "execution_count": null,
   "metadata": {
    "execution": {
     "iopub.execute_input": "2022-06-09T16:52:58.259361Z",
     "iopub.status.busy": "2022-06-09T16:52:58.259038Z",
     "iopub.status.idle": "2022-06-09T16:53:00.166269Z",
     "shell.execute_reply": "2022-06-09T16:53:00.165382Z",
     "shell.execute_reply.started": "2022-06-09T16:52:58.259332Z"
    },
    "papermill": {
     "duration": 1.557568,
     "end_time": "2021-05-23T13:54:30.389776",
     "exception": false,
     "start_time": "2021-05-23T13:54:28.832208",
     "status": "completed"
    },
    "tags": []
   },
   "outputs": [],
   "source": [
    "# Loan purpose Vs Loan defaulters\n",
    "\n",
    "count=df['purpose'].value_counts()\n",
    "labels=count.index\n",
    "values=count.values\n",
    "\n",
    "#Percentage of loan purpose\n",
    "plt.figure(figsize=(12,10))\n",
    "plt.pie(x=values,labels=labels,autopct='%0.2f%%')\n",
    "plt.title('\\nLoan Purpose Information',fontsize=20)\n",
    "plt.legend(labels=labels , loc=(1.2,0.7))\n",
    "plt.show()\n",
    "\n",
    "\n",
    "#Loan defaults w.r.t Purpose of loan\n",
    "plt.figure(figsize=(15,6))\n",
    "sns.barplot(x=df['purpose'] ,y=df['loan_status'])\n",
    "plt.title('\\nLoan defaulters w.r.t Purpose\\n',fontsize=15)\n",
    "plt.xticks(rotation=60)\n",
    "\n",
    "plt.show()"
   ]
  },
  {
   "cell_type": "markdown",
   "metadata": {
    "papermill": {
     "duration": 0.223862,
     "end_time": "2021-05-23T13:54:30.845187",
     "exception": false,
     "start_time": "2021-05-23T13:54:30.621325",
     "status": "completed"
    },
    "tags": []
   },
   "source": [
    "1. Loans are taken for majority for debt consolidation, Other,Home improvement , major purchase & small buisiness purpose.\n",
    "2. From the bar plot, we can observe that the probability of persong being loan defaulter is more in small buisiness,\n",
    "Defaulter rate is more when person take loan for small business purpose.\n",
    "3. Defaulter Rate will depend on the Purpose of the loan"
   ]
  },
  {
   "cell_type": "markdown",
   "metadata": {
    "papermill": {
     "duration": 0.209854,
     "end_time": "2021-05-23T13:54:31.266634",
     "exception": false,
     "start_time": "2021-05-23T13:54:31.05678",
     "status": "completed"
    },
    "tags": []
   },
   "source": [
    "## Term"
   ]
  },
  {
   "cell_type": "code",
   "execution_count": null,
   "metadata": {
    "execution": {
     "iopub.execute_input": "2022-06-09T16:53:00.168424Z",
     "iopub.status.busy": "2022-06-09T16:53:00.167792Z",
     "iopub.status.idle": "2022-06-09T16:53:00.200776Z",
     "shell.execute_reply": "2022-06-09T16:53:00.199664Z",
     "shell.execute_reply.started": "2022-06-09T16:53:00.168377Z"
    }
   },
   "outputs": [],
   "source": [
    "df.head()"
   ]
  },
  {
   "cell_type": "code",
   "execution_count": null,
   "metadata": {
    "execution": {
     "iopub.execute_input": "2022-06-09T16:53:00.203052Z",
     "iopub.status.busy": "2022-06-09T16:53:00.202393Z",
     "iopub.status.idle": "2022-06-09T16:53:00.215478Z",
     "shell.execute_reply": "2022-06-09T16:53:00.214566Z",
     "shell.execute_reply.started": "2022-06-09T16:53:00.203006Z"
    }
   },
   "outputs": [],
   "source": [
    "df.columns"
   ]
  },
  {
   "cell_type": "code",
   "execution_count": null,
   "metadata": {
    "execution": {
     "iopub.execute_input": "2022-06-09T16:53:00.217642Z",
     "iopub.status.busy": "2022-06-09T16:53:00.216990Z",
     "iopub.status.idle": "2022-06-09T16:53:01.459477Z",
     "shell.execute_reply": "2022-06-09T16:53:01.458385Z",
     "shell.execute_reply.started": "2022-06-09T16:53:00.217598Z"
    },
    "papermill": {
     "duration": 0.841356,
     "end_time": "2021-05-23T13:54:32.320776",
     "exception": false,
     "start_time": "2021-05-23T13:54:31.47942",
     "status": "completed"
    },
    "tags": []
   },
   "outputs": [],
   "source": [
    "# Term vs loan defaulters\n",
    "fig,ax=plt.subplots(1,2  , figsize=(10,6))\n",
    "\n",
    "#Countplot for Term\n",
    "sns.countplot(df['term'] ,ax=ax[0] )\n",
    "#Loan defaults vs term\n",
    "sns.barplot(x=df['term'] ,y=df['loan_status'] ,ax=ax[1])\n",
    "ax[0].set_title('\\nTERM (in Months)\\n',fontsize=15)\n",
    "ax[1].set_title('\\nLoan defaults % w.r.t TERM (in Months)\\n',fontsize=15)\n",
    "fig.tight_layout()\n"
   ]
  },
  {
   "cell_type": "markdown",
   "metadata": {
    "papermill": {
     "duration": 0.204267,
     "end_time": "2021-05-23T13:54:32.729585",
     "exception": false,
     "start_time": "2021-05-23T13:54:32.525318",
     "status": "completed"
    },
    "tags": []
   },
   "source": [
    "1. In the givan dataset, we are having more number of people with term 36 months than 60 months.\n",
    "2. But The probability of loan getting defaulted is more for 60 months than 30 months."
   ]
  },
  {
   "cell_type": "markdown",
   "metadata": {
    "papermill": {
     "duration": 0.208937,
     "end_time": "2021-05-23T13:54:33.145557",
     "exception": false,
     "start_time": "2021-05-23T13:54:32.93662",
     "status": "completed"
    },
    "tags": []
   },
   "source": [
    "## Grade"
   ]
  },
  {
   "cell_type": "code",
   "execution_count": null,
   "metadata": {
    "execution": {
     "iopub.execute_input": "2022-06-09T16:53:01.463147Z",
     "iopub.status.busy": "2022-06-09T16:53:01.461189Z",
     "iopub.status.idle": "2022-06-09T16:53:03.205208Z",
     "shell.execute_reply": "2022-06-09T16:53:03.204220Z",
     "shell.execute_reply.started": "2022-06-09T16:53:01.463095Z"
    },
    "papermill": {
     "duration": 1.049915,
     "end_time": "2021-05-23T13:54:34.399975",
     "exception": false,
     "start_time": "2021-05-23T13:54:33.35006",
     "status": "completed"
    },
    "tags": []
   },
   "outputs": [],
   "source": [
    "#Grade \n",
    "\n",
    "fig,ax=plt.subplots(1,2 , figsize=(12,6))\n",
    "# Countplot for grade\n",
    "sns.countplot(df['grade'] ,ax=ax[0] ,order=df['grade'].value_counts().index)\n",
    "# Barplot for loan defaults vs grade\n",
    "sns.barplot(x=df['grade'] ,y =df['loan_status'] ,ax=ax[1] ,order=df['grade'].value_counts().index)\n",
    "ax[0].set_title('\\nGRADE\\n',fontsize=15)\n",
    "ax[1].set_title('\\nLoan defaults % w.r.t Grade\\n',fontsize=15)\n"
   ]
  },
  {
   "cell_type": "markdown",
   "metadata": {
    "papermill": {
     "duration": 0.211346,
     "end_time": "2021-05-23T13:54:34.816476",
     "exception": false,
     "start_time": "2021-05-23T13:54:34.60513",
     "status": "completed"
    },
    "tags": []
   },
   "source": [
    "1. There are more number of people with grade B.\n",
    "2. Defaulter rate is high with the grade G and less for grade A."
   ]
  },
  {
   "cell_type": "markdown",
   "metadata": {
    "papermill": {
     "duration": 0.242471,
     "end_time": "2021-05-23T13:54:35.264866",
     "exception": false,
     "start_time": "2021-05-23T13:54:35.022395",
     "status": "completed"
    },
    "tags": []
   },
   "source": [
    "## Sub-Grade"
   ]
  },
  {
   "cell_type": "code",
   "execution_count": null,
   "metadata": {
    "execution": {
     "iopub.execute_input": "2022-06-09T16:53:03.206768Z",
     "iopub.status.busy": "2022-06-09T16:53:03.206411Z",
     "iopub.status.idle": "2022-06-09T16:53:06.275981Z",
     "shell.execute_reply": "2022-06-09T16:53:06.275017Z",
     "shell.execute_reply.started": "2022-06-09T16:53:03.206737Z"
    },
    "papermill": {
     "duration": 2.323691,
     "end_time": "2021-05-23T13:54:37.793471",
     "exception": false,
     "start_time": "2021-05-23T13:54:35.46978",
     "status": "completed"
    },
    "tags": []
   },
   "outputs": [],
   "source": [
    "# check for defaulters wrt subgrade in the data using countplot\n",
    "\n",
    "#Countplot for sub grade\n",
    "fig,ax=plt.subplots(2,1  , figsize=(15,12))\n",
    "sns.countplot(x=df['sub_grade'] ,ax=ax[0],order=df['sub_grade'].value_counts().index)\n",
    "#Loan defaulter vs sub grade\n",
    "sns.barplot(x=df['sub_grade'] ,y=df['loan_status'] ,ax=ax[1] ,order=df['sub_grade'].value_counts().index)\n",
    "ax[0].set_title('\\n SUB GRADE\\n',fontsize=20)\n",
    "ax[1].set_title('\\nLoan defaults % w.r.t SUB GRADE\\n',fontsize=20)\n",
    "plt.tight_layout()\n",
    "plt.show()"
   ]
  },
  {
   "cell_type": "markdown",
   "metadata": {
    "papermill": {
     "duration": 0.205398,
     "end_time": "2021-05-23T13:54:38.20462",
     "exception": false,
     "start_time": "2021-05-23T13:54:37.999222",
     "status": "completed"
    },
    "tags": []
   },
   "source": [
    "1. There are more number of people with sub grade A4.\n",
    "2. Defaulter rate is increasing with the sub grade , loan defaulter rate is more for F5 grade  and less for grade A1.\n",
    "3. Sub Grade is useful for further analysis."
   ]
  },
  {
   "cell_type": "markdown",
   "metadata": {
    "papermill": {
     "duration": 0.203037,
     "end_time": "2021-05-23T13:54:38.613844",
     "exception": false,
     "start_time": "2021-05-23T13:54:38.410807",
     "status": "completed"
    },
    "tags": []
   },
   "source": [
    "## Home ownership"
   ]
  },
  {
   "cell_type": "code",
   "execution_count": null,
   "metadata": {
    "execution": {
     "iopub.execute_input": "2022-06-09T16:53:06.277828Z",
     "iopub.status.busy": "2022-06-09T16:53:06.277281Z",
     "iopub.status.idle": "2022-06-09T16:53:07.940991Z",
     "shell.execute_reply": "2022-06-09T16:53:07.939877Z",
     "shell.execute_reply.started": "2022-06-09T16:53:06.277795Z"
    },
    "papermill": {
     "duration": 0.92066,
     "end_time": "2021-05-23T13:54:39.73659",
     "exception": false,
     "start_time": "2021-05-23T13:54:38.81593",
     "status": "completed"
    },
    "tags": []
   },
   "outputs": [],
   "source": [
    "#Home ownership\n",
    "fig,ax=plt.subplots(1,2  , figsize=(12,6))\n",
    "\n",
    "#Countplot for home ownership\n",
    "sns.countplot(df['home_ownership'] ,ax=ax[0] ,order=df['home_ownership'].value_counts().index)\n",
    "#Barplot for loan defaults vs home ownership\n",
    "sns.barplot(x=df['home_ownership'] ,y=df['loan_status'] ,ax=ax[1] ,order=df['home_ownership'].value_counts().index)\n",
    "ax[0].set_title('\\nHome Ownership\\n',fontsize=15)\n",
    "ax[1].set_title('\\nLoan defaults % w.r.t Home Ownership\\n',fontsize=15)\n",
    "plt.tight_layout()"
   ]
  },
  {
   "cell_type": "markdown",
   "metadata": {
    "papermill": {
     "duration": 0.207417,
     "end_time": "2021-05-23T13:54:40.152448",
     "exception": false,
     "start_time": "2021-05-23T13:54:39.945031",
     "status": "completed"
    },
    "tags": []
   },
   "source": [
    "1. Loan defaulter rate is almost constant for all the home ownerships, slightly more for OTHER home ownership.\n",
    "2. We can say that loan defaulters does not depends on home ownership.\n",
    "3. Home ownership is not useful for further analysis."
   ]
  },
  {
   "cell_type": "code",
   "execution_count": null,
   "metadata": {
    "execution": {
     "iopub.execute_input": "2022-06-09T16:53:07.942666Z",
     "iopub.status.busy": "2022-06-09T16:53:07.942291Z",
     "iopub.status.idle": "2022-06-09T16:53:07.957509Z",
     "shell.execute_reply": "2022-06-09T16:53:07.956546Z",
     "shell.execute_reply.started": "2022-06-09T16:53:07.942633Z"
    },
    "papermill": {
     "duration": 0.223232,
     "end_time": "2021-05-23T13:54:40.580961",
     "exception": false,
     "start_time": "2021-05-23T13:54:40.357729",
     "status": "completed"
    },
    "tags": []
   },
   "outputs": [],
   "source": [
    "#Check for values count\n",
    "df['home_ownership'].value_counts()"
   ]
  },
  {
   "cell_type": "code",
   "execution_count": null,
   "metadata": {
    "execution": {
     "iopub.execute_input": "2022-06-09T16:53:07.970113Z",
     "iopub.status.busy": "2022-06-09T16:53:07.969114Z",
     "iopub.status.idle": "2022-06-09T16:53:07.989320Z",
     "shell.execute_reply": "2022-06-09T16:53:07.988329Z",
     "shell.execute_reply.started": "2022-06-09T16:53:07.970065Z"
    },
    "papermill": {
     "duration": 0.228214,
     "end_time": "2021-05-23T13:54:41.015872",
     "exception": false,
     "start_time": "2021-05-23T13:54:40.787658",
     "status": "completed"
    },
    "tags": []
   },
   "outputs": [],
   "source": [
    "# we will remove home ownership NONE\n",
    "#Since Only one record is present for None category\n",
    "df=df[df['home_ownership']!='NONE']\n",
    "\n",
    "#Again check for value counts \n",
    "#df['home_ownership'].value_counts()"
   ]
  },
  {
   "cell_type": "markdown",
   "metadata": {
    "papermill": {
     "duration": 0.20836,
     "end_time": "2021-05-23T13:54:41.440441",
     "exception": false,
     "start_time": "2021-05-23T13:54:41.232081",
     "status": "completed"
    },
    "tags": []
   },
   "source": [
    "## Verification Status"
   ]
  },
  {
   "cell_type": "code",
   "execution_count": null,
   "metadata": {
    "execution": {
     "iopub.execute_input": "2022-06-09T16:53:07.991921Z",
     "iopub.status.busy": "2022-06-09T16:53:07.990745Z",
     "iopub.status.idle": "2022-06-09T16:53:09.697771Z",
     "shell.execute_reply": "2022-06-09T16:53:09.696495Z",
     "shell.execute_reply.started": "2022-06-09T16:53:07.991887Z"
    },
    "papermill": {
     "duration": 0.88461,
     "end_time": "2021-05-23T13:54:42.530039",
     "exception": false,
     "start_time": "2021-05-23T13:54:41.645429",
     "status": "completed"
    },
    "tags": []
   },
   "outputs": [],
   "source": [
    "#Verification status\n",
    "fig,ax=plt.subplots(1,2  , figsize=(12,6))\n",
    "\n",
    "sns.countplot(df['verification_status'] ,ax=ax[0] ,order=df['verification_status'].value_counts().index)\n",
    "sns.barplot(x=df['verification_status'] ,y=df['loan_status'] ,ax=ax[1] ,order=df['verification_status'].value_counts().index)\n",
    "ax[0].set_title('\\nVerification Status\\n',fontsize=15)\n",
    "ax[1].set_title('\\nLoan defaults % w.r.t Verification Status\\n',fontsize=15)\n",
    "plt.tight_layout()\n",
    "plt.show()"
   ]
  },
  {
   "cell_type": "markdown",
   "metadata": {
    "papermill": {
     "duration": 0.2127,
     "end_time": "2021-05-23T13:54:42.957289",
     "exception": false,
     "start_time": "2021-05-23T13:54:42.744589",
     "status": "completed"
    },
    "tags": []
   },
   "source": [
    "1. In the given data ,There are more records for which the ststus is non verified.\n",
    "2. but the defaulter rate is more for verified status."
   ]
  },
  {
   "cell_type": "markdown",
   "metadata": {
    "papermill": {
     "duration": 0.215455,
     "end_time": "2021-05-23T13:54:43.382888",
     "exception": false,
     "start_time": "2021-05-23T13:54:43.167433",
     "status": "completed"
    },
    "tags": []
   },
   "source": [
    "# Numerical variables"
   ]
  },
  {
   "cell_type": "code",
   "execution_count": null,
   "metadata": {
    "execution": {
     "iopub.execute_input": "2022-06-09T16:53:09.699678Z",
     "iopub.status.busy": "2022-06-09T16:53:09.699304Z",
     "iopub.status.idle": "2022-06-09T16:53:09.710432Z",
     "shell.execute_reply": "2022-06-09T16:53:09.709434Z",
     "shell.execute_reply.started": "2022-06-09T16:53:09.699644Z"
    },
    "papermill": {
     "duration": 0.227169,
     "end_time": "2021-05-23T13:54:43.82238",
     "exception": false,
     "start_time": "2021-05-23T13:54:43.595211",
     "status": "completed"
    },
    "tags": []
   },
   "outputs": [],
   "source": [
    "df.select_dtypes(include=np.number).columns"
   ]
  },
  {
   "cell_type": "markdown",
   "metadata": {
    "papermill": {
     "duration": 0.211006,
     "end_time": "2021-05-23T13:54:44.250332",
     "exception": false,
     "start_time": "2021-05-23T13:54:44.039326",
     "status": "completed"
    },
    "tags": []
   },
   "source": [
    "## Interest rate"
   ]
  },
  {
   "cell_type": "code",
   "execution_count": null,
   "metadata": {
    "execution": {
     "iopub.execute_input": "2022-06-09T16:53:09.712451Z",
     "iopub.status.busy": "2022-06-09T16:53:09.712097Z",
     "iopub.status.idle": "2022-06-09T16:53:09.730931Z",
     "shell.execute_reply": "2022-06-09T16:53:09.729785Z",
     "shell.execute_reply.started": "2022-06-09T16:53:09.712419Z"
    },
    "papermill": {
     "duration": 0.228277,
     "end_time": "2021-05-23T13:54:44.690584",
     "exception": false,
     "start_time": "2021-05-23T13:54:44.462307",
     "status": "completed"
    },
    "tags": []
   },
   "outputs": [],
   "source": [
    "#We have seen the distribution of intrest rate\n",
    "df['int_rate'].describe()"
   ]
  },
  {
   "cell_type": "code",
   "execution_count": null,
   "metadata": {
    "execution": {
     "iopub.execute_input": "2022-06-09T16:53:09.733594Z",
     "iopub.status.busy": "2022-06-09T16:53:09.732657Z",
     "iopub.status.idle": "2022-06-09T16:53:09.908268Z",
     "shell.execute_reply": "2022-06-09T16:53:09.907529Z",
     "shell.execute_reply.started": "2022-06-09T16:53:09.733551Z"
    },
    "papermill": {
     "duration": 0.364707,
     "end_time": "2021-05-23T13:54:45.266287",
     "exception": false,
     "start_time": "2021-05-23T13:54:44.90158",
     "status": "completed"
    },
    "tags": []
   },
   "outputs": [],
   "source": [
    "#Boxplot for interest rate\n",
    "plt.figure(figsize=(10,6))\n",
    "df['int_rate'].plot(kind='box')\n"
   ]
  },
  {
   "cell_type": "code",
   "execution_count": null,
   "metadata": {
    "execution": {
     "iopub.execute_input": "2022-06-09T16:53:09.909904Z",
     "iopub.status.busy": "2022-06-09T16:53:09.909581Z",
     "iopub.status.idle": "2022-06-09T16:53:09.922454Z",
     "shell.execute_reply": "2022-06-09T16:53:09.921265Z",
     "shell.execute_reply.started": "2022-06-09T16:53:09.909876Z"
    },
    "papermill": {
     "duration": 0.226137,
     "end_time": "2021-05-23T13:54:46.136777",
     "exception": false,
     "start_time": "2021-05-23T13:54:45.91064",
     "status": "completed"
    },
    "tags": []
   },
   "outputs": [],
   "source": [
    "# Divide interest rate into groups based on intervals\n",
    "df['int_rate_cat']=pd.cut(df['int_rate'],  [0,5,10,15,20,25,30], labels=['0-5','5-10','10-15','15-20','20-25','25-30'])"
   ]
  },
  {
   "cell_type": "code",
   "execution_count": null,
   "metadata": {
    "execution": {
     "iopub.execute_input": "2022-06-09T16:53:09.925139Z",
     "iopub.status.busy": "2022-06-09T16:53:09.924475Z",
     "iopub.status.idle": "2022-06-09T16:53:11.657730Z",
     "shell.execute_reply": "2022-06-09T16:53:11.656651Z",
     "shell.execute_reply.started": "2022-06-09T16:53:09.924963Z"
    },
    "papermill": {
     "duration": 1.068557,
     "end_time": "2021-05-23T13:54:47.412866",
     "exception": false,
     "start_time": "2021-05-23T13:54:46.344309",
     "status": "completed"
    },
    "tags": []
   },
   "outputs": [],
   "source": [
    "#Interest rate\n",
    "\n",
    "fig,ax=plt.subplots(1,2  , figsize=(12,6))\n",
    "#Countplot for intrest rate categories\n",
    "sns.countplot(df['int_rate_cat'] ,ax=ax[0] )\n",
    "#Barplot for loan defaulters vs intrest rate categories\n",
    "sns.barplot(x=df['int_rate_cat'] ,y=df['loan_status'] ,ax=ax[1] )\n",
    "ax[0].set_title('\\nInterest rate Range\\n',fontsize=15)\n",
    "ax[1].set_title('\\nLoan defaults % w.r.t Interest rate range\\n',fontsize=15)\n",
    "plt.tight_layout()\n",
    "plt.show()"
   ]
  },
  {
   "cell_type": "markdown",
   "metadata": {
    "papermill": {
     "duration": 0.214474,
     "end_time": "2021-05-23T13:54:47.83885",
     "exception": false,
     "start_time": "2021-05-23T13:54:47.624376",
     "status": "completed"
    },
    "tags": []
   },
   "source": [
    "1. There are more records with intrest rate between 10-15%\n",
    "2. The rate of loan defaulter is more for highest intrest rate & less for lowest intrest rate."
   ]
  },
  {
   "cell_type": "markdown",
   "metadata": {
    "papermill": {
     "duration": 0.209767,
     "end_time": "2021-05-23T13:54:48.260266",
     "exception": false,
     "start_time": "2021-05-23T13:54:48.050499",
     "status": "completed"
    },
    "tags": []
   },
   "source": [
    "## Annual income"
   ]
  },
  {
   "cell_type": "code",
   "execution_count": null,
   "metadata": {
    "execution": {
     "iopub.execute_input": "2022-06-09T16:53:11.659750Z",
     "iopub.status.busy": "2022-06-09T16:53:11.659249Z",
     "iopub.status.idle": "2022-06-09T16:53:11.674355Z",
     "shell.execute_reply": "2022-06-09T16:53:11.673203Z",
     "shell.execute_reply.started": "2022-06-09T16:53:11.659706Z"
    },
    "papermill": {
     "duration": 0.227547,
     "end_time": "2021-05-23T13:54:48.699992",
     "exception": false,
     "start_time": "2021-05-23T13:54:48.472445",
     "status": "completed"
    },
    "tags": []
   },
   "outputs": [],
   "source": [
    "#We have seen the distribution of intrest rate\n",
    "df['annual_inc'].describe()"
   ]
  },
  {
   "cell_type": "code",
   "execution_count": null,
   "metadata": {
    "execution": {
     "iopub.execute_input": "2022-06-09T16:53:11.675693Z",
     "iopub.status.busy": "2022-06-09T16:53:11.675285Z",
     "iopub.status.idle": "2022-06-09T16:53:11.855879Z",
     "shell.execute_reply": "2022-06-09T16:53:11.854769Z",
     "shell.execute_reply.started": "2022-06-09T16:53:11.675660Z"
    },
    "papermill": {
     "duration": 0.355039,
     "end_time": "2021-05-23T13:54:49.268992",
     "exception": false,
     "start_time": "2021-05-23T13:54:48.913953",
     "status": "completed"
    },
    "tags": []
   },
   "outputs": [],
   "source": [
    "#Boxplot for annual income\n",
    "plt.figure(figsize=(10,6))\n",
    "df['annual_inc'].plot(kind='box')\n",
    "\n",
    "plt.text(1.1, df['annual_inc'].max() , s=df['annual_inc'].max())\n",
    "plt.text(1.1, df['annual_inc'].min() , s=df['annual_inc'].min())\n",
    "plt.text(1.1, df['annual_inc'].quantile(0.25) , s=df['annual_inc'].quantile(0.25))\n",
    "plt.text(1.1, df['annual_inc'].quantile(0.50) , s=df['annual_inc'].quantile(0.50))\n",
    "plt.text(1.1, df['annual_inc'].quantile(0.75) , s=df['annual_inc'].quantile(0.75))\n",
    "\n",
    "plt.ylabel('Annual Income',fontsize=15)\n",
    "plt.show()\n",
    "plt.show()"
   ]
  },
  {
   "cell_type": "markdown",
   "metadata": {
    "papermill": {
     "duration": 0.211059,
     "end_time": "2021-05-23T13:54:49.695709",
     "exception": false,
     "start_time": "2021-05-23T13:54:49.48465",
     "status": "completed"
    },
    "tags": []
   },
   "source": [
    "1. The median income is 58000 ,the minum income is 4000 & the maximum income is 234996."
   ]
  },
  {
   "cell_type": "code",
   "execution_count": null,
   "metadata": {
    "execution": {
     "iopub.execute_input": "2022-06-09T16:53:11.857655Z",
     "iopub.status.busy": "2022-06-09T16:53:11.857294Z",
     "iopub.status.idle": "2022-06-09T16:53:11.897802Z",
     "shell.execute_reply": "2022-06-09T16:53:11.896741Z",
     "shell.execute_reply.started": "2022-06-09T16:53:11.857623Z"
    },
    "papermill": {
     "duration": 0.247791,
     "end_time": "2021-05-23T13:54:50.1554",
     "exception": false,
     "start_time": "2021-05-23T13:54:49.907609",
     "status": "completed"
    },
    "tags": []
   },
   "outputs": [],
   "source": [
    "# Divide annual income into groups based on intervals\n",
    "def annual_income(inc):\n",
    "    if inc <= 50000:\n",
    "        return 'low'\n",
    "    elif inc > 50000 and inc <=100000:\n",
    "        return 'medium'\n",
    "    elif inc > 100000 and inc <=150000:\n",
    "        return 'high'\n",
    "    else:\n",
    "        return 'very high'\n",
    "\n",
    "df['annual_inc_cat'] = df['annual_inc'].apply(lambda x: annual_income(x))\n",
    "df['annual_inc_cat'].value_counts()"
   ]
  },
  {
   "cell_type": "code",
   "execution_count": null,
   "metadata": {
    "execution": {
     "iopub.execute_input": "2022-06-09T16:53:11.899788Z",
     "iopub.status.busy": "2022-06-09T16:53:11.899441Z",
     "iopub.status.idle": "2022-06-09T16:53:13.562423Z",
     "shell.execute_reply": "2022-06-09T16:53:13.561476Z",
     "shell.execute_reply.started": "2022-06-09T16:53:11.899759Z"
    },
    "papermill": {
     "duration": 0.928776,
     "end_time": "2021-05-23T13:54:51.297551",
     "exception": false,
     "start_time": "2021-05-23T13:54:50.368775",
     "status": "completed"
    },
    "tags": []
   },
   "outputs": [],
   "source": [
    "fig,ax=plt.subplots(1,2  , figsize=(12,6))\n",
    "#Countplot for annual income range\n",
    "sns.countplot(df['annual_inc_cat'] ,ax=ax[0] )\n",
    "#Loan defaulter Vs annual income range\n",
    "sns.barplot(x=df['annual_inc_cat'] ,y=df['loan_status'] ,ax=ax[1] )\n",
    "ax[0].set_title('\\nAnnual Income Range\\n',fontsize=15)\n",
    "ax[1].set_title('\\nLoan defaults % w.r.t Annual income range\\n',fontsize=15)\n",
    "plt.tight_layout()\n",
    "plt.show()"
   ]
  },
  {
   "cell_type": "markdown",
   "metadata": {
    "papermill": {
     "duration": 0.215927,
     "end_time": "2021-05-23T13:54:51.724061",
     "exception": false,
     "start_time": "2021-05-23T13:54:51.508134",
     "status": "completed"
    },
    "tags": []
   },
   "source": [
    "1. Defaulter rate is increasing with the annual income value, defaulter rate will depend on loan amount\n",
    "2. The annual income variable is useful for further analysis."
   ]
  },
  {
   "cell_type": "markdown",
   "metadata": {
    "papermill": {
     "duration": 0.213624,
     "end_time": "2021-05-23T13:54:52.152551",
     "exception": false,
     "start_time": "2021-05-23T13:54:51.938927",
     "status": "completed"
    },
    "tags": []
   },
   "source": [
    "## Loan amount"
   ]
  },
  {
   "cell_type": "code",
   "execution_count": null,
   "metadata": {
    "execution": {
     "iopub.execute_input": "2022-06-09T16:53:13.564079Z",
     "iopub.status.busy": "2022-06-09T16:53:13.563764Z",
     "iopub.status.idle": "2022-06-09T16:53:13.575557Z",
     "shell.execute_reply": "2022-06-09T16:53:13.574454Z",
     "shell.execute_reply.started": "2022-06-09T16:53:13.564050Z"
    },
    "papermill": {
     "duration": 0.23599,
     "end_time": "2021-05-23T13:54:52.597534",
     "exception": false,
     "start_time": "2021-05-23T13:54:52.361544",
     "status": "completed"
    },
    "tags": []
   },
   "outputs": [],
   "source": [
    "df['loan_amnt'].describe()"
   ]
  },
  {
   "cell_type": "code",
   "execution_count": null,
   "metadata": {
    "execution": {
     "iopub.execute_input": "2022-06-09T16:53:13.577115Z",
     "iopub.status.busy": "2022-06-09T16:53:13.576699Z",
     "iopub.status.idle": "2022-06-09T16:53:13.772079Z",
     "shell.execute_reply": "2022-06-09T16:53:13.771377Z",
     "shell.execute_reply.started": "2022-06-09T16:53:13.577085Z"
    },
    "papermill": {
     "duration": 0.365,
     "end_time": "2021-05-23T13:54:53.178744",
     "exception": false,
     "start_time": "2021-05-23T13:54:52.813744",
     "status": "completed"
    },
    "tags": []
   },
   "outputs": [],
   "source": [
    "#Boxplot for loan amount\n",
    "plt.figure(figsize=(10,6))\n",
    "df['loan_amnt'].plot(kind='box')\n",
    "plt.show()"
   ]
  },
  {
   "cell_type": "markdown",
   "metadata": {
    "papermill": {
     "duration": 0.21014,
     "end_time": "2021-05-23T13:54:53.601073",
     "exception": false,
     "start_time": "2021-05-23T13:54:53.390933",
     "status": "completed"
    },
    "tags": []
   },
   "source": [
    "The median loan amount is 9600 , the minimum loan amount is 500, the maximum loan amount is 35000"
   ]
  },
  {
   "cell_type": "code",
   "execution_count": null,
   "metadata": {
    "execution": {
     "iopub.execute_input": "2022-06-09T16:53:13.773926Z",
     "iopub.status.busy": "2022-06-09T16:53:13.773007Z",
     "iopub.status.idle": "2022-06-09T16:53:13.811632Z",
     "shell.execute_reply": "2022-06-09T16:53:13.810973Z",
     "shell.execute_reply.started": "2022-06-09T16:53:13.773864Z"
    },
    "papermill": {
     "duration": 0.25248,
     "end_time": "2021-05-23T13:54:54.066394",
     "exception": false,
     "start_time": "2021-05-23T13:54:53.813914",
     "status": "completed"
    },
    "tags": []
   },
   "outputs": [],
   "source": [
    "# Divide Loan amount into groups based on intervals\n",
    "def loan_amount(amt):\n",
    "    if amt <= 5500:\n",
    "        return 'low'\n",
    "    elif amt > 5500 and amt <=10000:\n",
    "        return 'medium'\n",
    "    elif amt > 10000 and amt <=15000:\n",
    "        return 'high'\n",
    "    else:\n",
    "        return 'very high'\n",
    "\n",
    "df['loan_amnt_cat'] = df['loan_amnt'].apply(lambda x: loan_amount(x))\n",
    "df['loan_amnt_cat'].value_counts()"
   ]
  },
  {
   "cell_type": "code",
   "execution_count": null,
   "metadata": {
    "execution": {
     "iopub.execute_input": "2022-06-09T16:53:13.813279Z",
     "iopub.status.busy": "2022-06-09T16:53:13.812725Z",
     "iopub.status.idle": "2022-06-09T16:53:15.512647Z",
     "shell.execute_reply": "2022-06-09T16:53:15.511471Z",
     "shell.execute_reply.started": "2022-06-09T16:53:13.813248Z"
    },
    "papermill": {
     "duration": 0.962689,
     "end_time": "2021-05-23T13:54:55.243674",
     "exception": false,
     "start_time": "2021-05-23T13:54:54.280985",
     "status": "completed"
    },
    "tags": []
   },
   "outputs": [],
   "source": [
    "#Loan amount\n",
    "fig,ax=plt.subplots(1,2  , figsize=(12,6))\n",
    "\n",
    "#Countplot for loan amount range\n",
    "sns.countplot(df['loan_amnt_cat'] ,ax=ax[0] )\n",
    "#barplot for loan defaulters Vs loan amount range\n",
    "sns.barplot(x=df['loan_amnt_cat'] ,y=df['loan_status'] ,ax=ax[1] )\n",
    "ax[0].set_title('\\nLoan amount Range\\n',fontsize=15)\n",
    "ax[1].set_title('\\nLoan defaults % w.r.t Loan amount range\\n',fontsize=15)\n",
    "plt.tight_layout()\n",
    "plt.show()"
   ]
  },
  {
   "cell_type": "markdown",
   "metadata": {
    "papermill": {
     "duration": 0.212185,
     "end_time": "2021-05-23T13:54:55.671101",
     "exception": false,
     "start_time": "2021-05-23T13:54:55.458916",
     "status": "completed"
    },
    "tags": []
   },
   "source": [
    "1. loan defaulter rate is increasing as loan amount range .\n",
    "2. This feature is useful for further analysis"
   ]
  },
  {
   "cell_type": "markdown",
   "metadata": {
    "papermill": {
     "duration": 0.214135,
     "end_time": "2021-05-23T13:54:56.097087",
     "exception": false,
     "start_time": "2021-05-23T13:54:55.882952",
     "status": "completed"
    },
    "tags": []
   },
   "source": [
    "## Debt to Income ratio"
   ]
  },
  {
   "cell_type": "code",
   "execution_count": null,
   "metadata": {
    "execution": {
     "iopub.execute_input": "2022-06-09T16:53:15.514925Z",
     "iopub.status.busy": "2022-06-09T16:53:15.514454Z",
     "iopub.status.idle": "2022-06-09T16:53:15.528808Z",
     "shell.execute_reply": "2022-06-09T16:53:15.527745Z",
     "shell.execute_reply.started": "2022-06-09T16:53:15.514880Z"
    },
    "papermill": {
     "duration": 0.230936,
     "end_time": "2021-05-23T13:54:56.54204",
     "exception": false,
     "start_time": "2021-05-23T13:54:56.311104",
     "status": "completed"
    },
    "tags": []
   },
   "outputs": [],
   "source": [
    "df['dti'].describe()"
   ]
  },
  {
   "cell_type": "code",
   "execution_count": null,
   "metadata": {
    "execution": {
     "iopub.execute_input": "2022-06-09T16:53:15.530268Z",
     "iopub.status.busy": "2022-06-09T16:53:15.529946Z",
     "iopub.status.idle": "2022-06-09T16:53:15.539195Z",
     "shell.execute_reply": "2022-06-09T16:53:15.538233Z",
     "shell.execute_reply.started": "2022-06-09T16:53:15.530240Z"
    },
    "papermill": {
     "duration": 0.227531,
     "end_time": "2021-05-23T13:54:56.987987",
     "exception": false,
     "start_time": "2021-05-23T13:54:56.760456",
     "status": "completed"
    },
    "tags": []
   },
   "outputs": [],
   "source": [
    "\n",
    "df['dti_cat']=pd.cut(df['dti'],  [0,5,10,15,20,25,30], labels=['0-5','5-10','10-15','15-20','20-25','25-30'])\n"
   ]
  },
  {
   "cell_type": "code",
   "execution_count": null,
   "metadata": {
    "execution": {
     "iopub.execute_input": "2022-06-09T16:53:15.541287Z",
     "iopub.status.busy": "2022-06-09T16:53:15.540169Z",
     "iopub.status.idle": "2022-06-09T16:53:17.292252Z",
     "shell.execute_reply": "2022-06-09T16:53:17.291197Z",
     "shell.execute_reply.started": "2022-06-09T16:53:15.541244Z"
    },
    "papermill": {
     "duration": 1.008396,
     "end_time": "2021-05-23T13:54:58.217719",
     "exception": false,
     "start_time": "2021-05-23T13:54:57.209323",
     "status": "completed"
    },
    "tags": []
   },
   "outputs": [],
   "source": [
    "#Debt to income ratio\n",
    "\n",
    "fig,ax=plt.subplots(1,2  , figsize=(12,6))\n",
    "\n",
    "sns.countplot(df['dti_cat'] ,ax=ax[0] )\n",
    "sns.barplot(x=df['dti_cat'] ,y=df['loan_status'] ,ax=ax[1] )\n",
    "ax[0].set_title('\\nDebt to income ratio Range\\n',fontsize=15)\n",
    "ax[1].set_title('\\nLoan defaults % w.r.t Debt to income ratio range\\n',fontsize=15)\n",
    "plt.tight_layout()\n",
    "plt.show()"
   ]
  },
  {
   "cell_type": "markdown",
   "metadata": {
    "papermill": {
     "duration": 0.216642,
     "end_time": "2021-05-23T13:54:58.648247",
     "exception": false,
     "start_time": "2021-05-23T13:54:58.431605",
     "status": "completed"
    },
    "tags": []
   },
   "source": [
    "1. Loan defaulter rate is increasing with the debt to income ratio.\n",
    "2. Dti is useful for finding the loan defaulter."
   ]
  },
  {
   "cell_type": "markdown",
   "metadata": {
    "papermill": {
     "duration": 0.218975,
     "end_time": "2021-05-23T13:54:59.084454",
     "exception": false,
     "start_time": "2021-05-23T13:54:58.865479",
     "status": "completed"
    },
    "tags": []
   },
   "source": [
    "## Revolving line utilization rate"
   ]
  },
  {
   "cell_type": "code",
   "execution_count": null,
   "metadata": {
    "execution": {
     "iopub.execute_input": "2022-06-09T16:53:17.293738Z",
     "iopub.status.busy": "2022-06-09T16:53:17.293396Z",
     "iopub.status.idle": "2022-06-09T16:53:17.480805Z",
     "shell.execute_reply": "2022-06-09T16:53:17.479752Z",
     "shell.execute_reply.started": "2022-06-09T16:53:17.293709Z"
    },
    "papermill": {
     "duration": 0.353648,
     "end_time": "2021-05-23T13:54:59.659966",
     "exception": false,
     "start_time": "2021-05-23T13:54:59.306318",
     "status": "completed"
    },
    "tags": []
   },
   "outputs": [],
   "source": [
    "#Boxplot for revol_util\n",
    "plt.figure(figsize=(10,6))\n",
    "df['revol_util'].plot(kind='box')\n",
    "\n",
    "plt.show()"
   ]
  },
  {
   "cell_type": "code",
   "execution_count": null,
   "metadata": {
    "execution": {
     "iopub.execute_input": "2022-06-09T16:53:17.482442Z",
     "iopub.status.busy": "2022-06-09T16:53:17.482134Z",
     "iopub.status.idle": "2022-06-09T16:53:17.490888Z",
     "shell.execute_reply": "2022-06-09T16:53:17.489720Z",
     "shell.execute_reply.started": "2022-06-09T16:53:17.482414Z"
    },
    "papermill": {
     "duration": 0.230998,
     "end_time": "2021-05-23T13:55:00.107982",
     "exception": false,
     "start_time": "2021-05-23T13:54:59.876984",
     "status": "completed"
    },
    "tags": []
   },
   "outputs": [],
   "source": [
    "# Divide revol utilization rate into groups based on intervals\n",
    "df['revol_util_cat']=pd.cut(df['revol_util'],  [0,25,50,75,100], labels=['0-25','25-50','50-75','75-100'])"
   ]
  },
  {
   "cell_type": "code",
   "execution_count": null,
   "metadata": {
    "execution": {
     "iopub.execute_input": "2022-06-09T16:53:17.493184Z",
     "iopub.status.busy": "2022-06-09T16:53:17.492213Z",
     "iopub.status.idle": "2022-06-09T16:53:18.608609Z",
     "shell.execute_reply": "2022-06-09T16:53:18.607545Z",
     "shell.execute_reply.started": "2022-06-09T16:53:17.493141Z"
    },
    "papermill": {
     "duration": 0.802583,
     "end_time": "2021-05-23T13:55:01.131177",
     "exception": false,
     "start_time": "2021-05-23T13:55:00.328594",
     "status": "completed"
    },
    "tags": []
   },
   "outputs": [],
   "source": [
    "#Loan defaulter vs revol util\n",
    "\n",
    "plt.figure(figsize=(8,5))\n",
    "sns.barplot(x=df['revol_util_cat'] ,y=df['loan_status'])\n",
    "plt.show()"
   ]
  },
  {
   "cell_type": "markdown",
   "metadata": {
    "papermill": {
     "duration": 0.232641,
     "end_time": "2021-05-23T13:55:01.594975",
     "exception": false,
     "start_time": "2021-05-23T13:55:01.362334",
     "status": "completed"
    },
    "tags": []
   },
   "source": [
    "1. Loan defaulter rate is increasing with the revolving line utilization rate.\n",
    "2. this is useful for finding the loan defaulter."
   ]
  },
  {
   "cell_type": "markdown",
   "metadata": {
    "papermill": {
     "duration": 0.238444,
     "end_time": "2021-05-23T13:55:02.071102",
     "exception": false,
     "start_time": "2021-05-23T13:55:01.832658",
     "status": "completed"
    },
    "tags": []
   },
   "source": [
    "## Installments"
   ]
  },
  {
   "cell_type": "code",
   "execution_count": null,
   "metadata": {
    "execution": {
     "iopub.execute_input": "2022-06-09T16:53:18.610597Z",
     "iopub.status.busy": "2022-06-09T16:53:18.609932Z",
     "iopub.status.idle": "2022-06-09T16:53:18.624056Z",
     "shell.execute_reply": "2022-06-09T16:53:18.622923Z",
     "shell.execute_reply.started": "2022-06-09T16:53:18.610551Z"
    },
    "papermill": {
     "duration": 0.245396,
     "end_time": "2021-05-23T13:55:02.54861",
     "exception": false,
     "start_time": "2021-05-23T13:55:02.303214",
     "status": "completed"
    },
    "tags": []
   },
   "outputs": [],
   "source": [
    "df['installment'].describe()"
   ]
  },
  {
   "cell_type": "code",
   "execution_count": null,
   "metadata": {
    "execution": {
     "iopub.execute_input": "2022-06-09T16:53:18.626306Z",
     "iopub.status.busy": "2022-06-09T16:53:18.625636Z",
     "iopub.status.idle": "2022-06-09T16:53:18.657027Z",
     "shell.execute_reply": "2022-06-09T16:53:18.656013Z",
     "shell.execute_reply.started": "2022-06-09T16:53:18.626254Z"
    },
    "papermill": {
     "duration": 0.288047,
     "end_time": "2021-05-23T13:55:03.065568",
     "exception": false,
     "start_time": "2021-05-23T13:55:02.777521",
     "status": "completed"
    },
    "tags": []
   },
   "outputs": [],
   "source": [
    "# installment\n",
    "def installment(n):\n",
    "    if n <= 200:\n",
    "        return 'low'\n",
    "    elif n > 200 and n <=400:\n",
    "        return 'medium'\n",
    "    elif n > 400 and n <=600:\n",
    "        return 'high'\n",
    "    else:\n",
    "        return 'very high'\n",
    "    \n",
    "df['installment_cat'] = df['installment'].apply(lambda x: installment(x))"
   ]
  },
  {
   "cell_type": "code",
   "execution_count": null,
   "metadata": {
    "execution": {
     "iopub.execute_input": "2022-06-09T16:53:18.658946Z",
     "iopub.status.busy": "2022-06-09T16:53:18.658372Z",
     "iopub.status.idle": "2022-06-09T16:53:20.400388Z",
     "shell.execute_reply": "2022-06-09T16:53:20.399308Z",
     "shell.execute_reply.started": "2022-06-09T16:53:18.658912Z"
    },
    "papermill": {
     "duration": 1.04934,
     "end_time": "2021-05-23T13:55:04.379889",
     "exception": false,
     "start_time": "2021-05-23T13:55:03.330549",
     "status": "completed"
    },
    "tags": []
   },
   "outputs": [],
   "source": [
    "#Loan amount\n",
    "\n",
    "fig,ax=plt.subplots(1,2  , figsize=(12,6))\n",
    "\n",
    "sns.countplot(df['installment_cat'] ,ax=ax[0] )\n",
    "sns.barplot(x=df['installment_cat'] ,y=df['loan_status'] ,ax=ax[1] )\n",
    "ax[0].set_title('\\nInstallment Range\\n',fontsize=15)\n",
    "ax[1].set_title('\\nLoan defaults % w.r.t Installment range\\n',fontsize=15)\n",
    "plt.tight_layout()\n",
    "plt.show()"
   ]
  },
  {
   "cell_type": "markdown",
   "metadata": {
    "papermill": {
     "duration": 0.233785,
     "end_time": "2021-05-23T13:55:04.852804",
     "exception": false,
     "start_time": "2021-05-23T13:55:04.619019",
     "status": "completed"
    },
    "tags": []
   },
   "source": [
    "1. Loan defaulter rate is increasing with the installment values.\n",
    "2. Dti is useful for finding the loan defaulter."
   ]
  },
  {
   "cell_type": "markdown",
   "metadata": {
    "papermill": {
     "duration": 0.227377,
     "end_time": "2021-05-23T13:55:05.311294",
     "exception": false,
     "start_time": "2021-05-23T13:55:05.083917",
     "status": "completed"
    },
    "tags": []
   },
   "source": [
    "### Installments Vs Loan amount"
   ]
  },
  {
   "cell_type": "code",
   "execution_count": null,
   "metadata": {
    "execution": {
     "iopub.execute_input": "2022-06-09T16:53:20.402196Z",
     "iopub.status.busy": "2022-06-09T16:53:20.401852Z",
     "iopub.status.idle": "2022-06-09T16:53:20.733056Z",
     "shell.execute_reply": "2022-06-09T16:53:20.731872Z",
     "shell.execute_reply.started": "2022-06-09T16:53:20.402166Z"
    },
    "papermill": {
     "duration": 0.474172,
     "end_time": "2021-05-23T13:55:06.025087",
     "exception": false,
     "start_time": "2021-05-23T13:55:05.550915",
     "status": "completed"
    },
    "tags": []
   },
   "outputs": [],
   "source": [
    "plt.figure(figsize=(10,8))\n",
    "sns.scatterplot( df['loan_amnt'] ,df['installment'] )\n",
    "plt.title('Installments Vs Loan amount' , fontsize=20)\n",
    "plt.show()"
   ]
  },
  {
   "cell_type": "markdown",
   "metadata": {
    "papermill": {
     "duration": 0.231457,
     "end_time": "2021-05-23T13:55:06.493013",
     "exception": false,
     "start_time": "2021-05-23T13:55:06.261556",
     "status": "completed"
    },
    "tags": []
   },
   "source": [
    "1. It is obvious that if the loan amount is more, installment amount will also be more"
   ]
  },
  {
   "cell_type": "markdown",
   "metadata": {
    "papermill": {
     "duration": 0.238132,
     "end_time": "2021-05-23T13:55:06.957605",
     "exception": false,
     "start_time": "2021-05-23T13:55:06.719473",
     "status": "completed"
    },
    "tags": []
   },
   "source": [
    "### Annual income VS LOAN AMOUNT"
   ]
  },
  {
   "cell_type": "code",
   "execution_count": null,
   "metadata": {
    "execution": {
     "iopub.execute_input": "2022-06-09T16:53:20.734870Z",
     "iopub.status.busy": "2022-06-09T16:53:20.734538Z",
     "iopub.status.idle": "2022-06-09T16:53:21.086320Z",
     "shell.execute_reply": "2022-06-09T16:53:21.085355Z",
     "shell.execute_reply.started": "2022-06-09T16:53:20.734840Z"
    },
    "papermill": {
     "duration": 0.463051,
     "end_time": "2021-05-23T13:55:07.662997",
     "exception": false,
     "start_time": "2021-05-23T13:55:07.199946",
     "status": "completed"
    },
    "tags": []
   },
   "outputs": [],
   "source": [
    "plt.figure(figsize=(10,8))\n",
    "sns.scatterplot( df['annual_inc'] ,df['loan_amnt'])\n",
    "plt.title('Annual_inc Vs Loan amount' , fontsize=20)\n",
    "plt.show()"
   ]
  },
  {
   "cell_type": "markdown",
   "metadata": {
    "papermill": {
     "duration": 0.232133,
     "end_time": "2021-05-23T13:55:08.124849",
     "exception": false,
     "start_time": "2021-05-23T13:55:07.892716",
     "status": "completed"
    },
    "tags": []
   },
   "source": [
    "1. People with annual income between 0 to 100000 tend to appply more for loan"
   ]
  },
  {
   "cell_type": "markdown",
   "metadata": {
    "papermill": {
     "duration": 0.222973,
     "end_time": "2021-05-23T13:55:08.572009",
     "exception": false,
     "start_time": "2021-05-23T13:55:08.349036",
     "status": "completed"
    },
    "tags": []
   },
   "source": [
    "# MULTIVARIATE ANALYSIS"
   ]
  },
  {
   "cell_type": "code",
   "execution_count": null,
   "metadata": {
    "execution": {
     "iopub.execute_input": "2022-06-09T16:53:21.087984Z",
     "iopub.status.busy": "2022-06-09T16:53:21.087633Z",
     "iopub.status.idle": "2022-06-09T16:53:23.168828Z",
     "shell.execute_reply": "2022-06-09T16:53:23.167851Z",
     "shell.execute_reply.started": "2022-06-09T16:53:21.087954Z"
    },
    "papermill": {
     "duration": 1.886083,
     "end_time": "2021-05-23T13:55:10.683878",
     "exception": false,
     "start_time": "2021-05-23T13:55:08.797795",
     "status": "completed"
    },
    "scrolled": true,
    "tags": []
   },
   "outputs": [],
   "source": [
    "#Correlation matrix\n",
    "plt.figure(figsize=(15,8))\n",
    "sns.heatmap(df.corr(),annot=True)\n",
    "plt.show()"
   ]
  },
  {
   "cell_type": "markdown",
   "metadata": {
    "papermill": {
     "duration": 0.237497,
     "end_time": "2021-05-23T13:55:11.160564",
     "exception": false,
     "start_time": "2021-05-23T13:55:10.923067",
     "status": "completed"
    },
    "tags": []
   },
   "source": [
    "1. There is a strong correlation between loan amount and funded amount.\n",
    "2. There is a strong correlation between loan amount and funded amount invested.\n",
    "3. There is a strong correlation between loan amount and installment.\n",
    "4. There is a strong correlation between installement and funded_amount,funded_amount_invested.\n",
    "5. There is a strong correlation between total_pymnt_inv and total_amount,funded_amount , funded_amnt_inv"
   ]
  },
  {
   "cell_type": "markdown",
   "metadata": {
    "papermill": {
     "duration": 0.240527,
     "end_time": "2021-05-23T13:55:11.640839",
     "exception": false,
     "start_time": "2021-05-23T13:55:11.400312",
     "status": "completed"
    },
    "tags": []
   },
   "source": [
    "# Pairplot\n",
    "\n",
    "\n"
   ]
  },
  {
   "cell_type": "code",
   "execution_count": null,
   "metadata": {
    "execution": {
     "iopub.execute_input": "2022-06-09T16:53:23.171739Z",
     "iopub.status.busy": "2022-06-09T16:53:23.170924Z",
     "iopub.status.idle": "2022-06-09T16:53:23.188192Z",
     "shell.execute_reply": "2022-06-09T16:53:23.187357Z",
     "shell.execute_reply.started": "2022-06-09T16:53:23.171692Z"
    }
   },
   "outputs": [],
   "source": [
    "df_num = df.select_dtypes(include = np.number)"
   ]
  },
  {
   "cell_type": "markdown",
   "metadata": {
    "papermill": {
     "duration": 0.284905,
     "end_time": "2021-05-23T13:55:50.51417",
     "exception": false,
     "start_time": "2021-05-23T13:55:50.229265",
     "status": "completed"
    },
    "tags": []
   },
   "source": [
    "### Loan amount & Interest rate "
   ]
  },
  {
   "cell_type": "code",
   "execution_count": null,
   "metadata": {
    "execution": {
     "iopub.execute_input": "2022-06-09T16:53:23.190674Z",
     "iopub.status.busy": "2022-06-09T16:53:23.189613Z",
     "iopub.status.idle": "2022-06-09T16:53:24.625290Z",
     "shell.execute_reply": "2022-06-09T16:53:24.624566Z",
     "shell.execute_reply.started": "2022-06-09T16:53:23.190631Z"
    },
    "papermill": {
     "duration": 1.566081,
     "end_time": "2021-05-23T13:55:52.3682",
     "exception": false,
     "start_time": "2021-05-23T13:55:50.802119",
     "status": "completed"
    },
    "tags": []
   },
   "outputs": [],
   "source": [
    "plt.figure(figsize=(10,8))\n",
    "sns.scatterplot( df['loan_amnt'] ,df['int_rate'] ,hue=df['loan_status'])\n",
    "plt.title('Interest rate (%) Vs Loan amount' , fontsize=20)\n",
    "plt.show()"
   ]
  },
  {
   "cell_type": "markdown",
   "metadata": {
    "papermill": {
     "duration": 0.291557,
     "end_time": "2021-05-23T13:55:52.966255",
     "exception": false,
     "start_time": "2021-05-23T13:55:52.674698",
     "status": "completed"
    },
    "tags": []
   },
   "source": [
    "The defaulters are present at all the places"
   ]
  },
  {
   "cell_type": "code",
   "execution_count": null,
   "metadata": {
    "execution": {
     "iopub.execute_input": "2022-06-09T16:53:24.627120Z",
     "iopub.status.busy": "2022-06-09T16:53:24.626231Z",
     "iopub.status.idle": "2022-06-09T16:53:24.636885Z",
     "shell.execute_reply": "2022-06-09T16:53:24.635453Z",
     "shell.execute_reply.started": "2022-06-09T16:53:24.627069Z"
    }
   },
   "outputs": [],
   "source": [
    "df_final = df.copy()"
   ]
  },
  {
   "cell_type": "code",
   "execution_count": null,
   "metadata": {
    "execution": {
     "iopub.execute_input": "2022-06-09T16:53:24.639053Z",
     "iopub.status.busy": "2022-06-09T16:53:24.638362Z",
     "iopub.status.idle": "2022-06-09T16:53:24.698046Z",
     "shell.execute_reply": "2022-06-09T16:53:24.696785Z",
     "shell.execute_reply.started": "2022-06-09T16:53:24.639016Z"
    }
   },
   "outputs": [],
   "source": [
    "df_final.sample(20)"
   ]
  },
  {
   "cell_type": "code",
   "execution_count": null,
   "metadata": {
    "execution": {
     "iopub.execute_input": "2022-06-09T16:53:24.699506Z",
     "iopub.status.busy": "2022-06-09T16:53:24.699169Z",
     "iopub.status.idle": "2022-06-09T16:53:24.705672Z",
     "shell.execute_reply": "2022-06-09T16:53:24.704795Z",
     "shell.execute_reply.started": "2022-06-09T16:53:24.699454Z"
    }
   },
   "outputs": [],
   "source": [
    "df_final.shape"
   ]
  },
  {
   "cell_type": "code",
   "execution_count": null,
   "metadata": {
    "execution": {
     "iopub.execute_input": "2022-06-09T16:53:24.708349Z",
     "iopub.status.busy": "2022-06-09T16:53:24.707236Z",
     "iopub.status.idle": "2022-06-09T16:53:24.767444Z",
     "shell.execute_reply": "2022-06-09T16:53:24.766569Z",
     "shell.execute_reply.started": "2022-06-09T16:53:24.708307Z"
    }
   },
   "outputs": [],
   "source": [
    "df_final.sample(20)"
   ]
  },
  {
   "cell_type": "code",
   "execution_count": null,
   "metadata": {
    "execution": {
     "iopub.execute_input": "2022-06-09T16:53:24.769771Z",
     "iopub.status.busy": "2022-06-09T16:53:24.768970Z",
     "iopub.status.idle": "2022-06-09T16:53:24.778765Z",
     "shell.execute_reply": "2022-06-09T16:53:24.777894Z",
     "shell.execute_reply.started": "2022-06-09T16:53:24.769723Z"
    }
   },
   "outputs": [],
   "source": [
    "# encoding the categorical features to "
   ]
  },
  {
   "cell_type": "code",
   "execution_count": null,
   "metadata": {
    "execution": {
     "iopub.execute_input": "2022-06-09T16:53:24.780329Z",
     "iopub.status.busy": "2022-06-09T16:53:24.779862Z",
     "iopub.status.idle": "2022-06-09T16:53:24.796315Z",
     "shell.execute_reply": "2022-06-09T16:53:24.795330Z",
     "shell.execute_reply.started": "2022-06-09T16:53:24.780289Z"
    }
   },
   "outputs": [],
   "source": [
    "cat_col = df_final.select_dtypes(include = object).columns"
   ]
  },
  {
   "cell_type": "code",
   "execution_count": null,
   "metadata": {
    "execution": {
     "iopub.execute_input": "2022-06-09T16:53:24.797983Z",
     "iopub.status.busy": "2022-06-09T16:53:24.797656Z",
     "iopub.status.idle": "2022-06-09T16:53:24.806616Z",
     "shell.execute_reply": "2022-06-09T16:53:24.805501Z",
     "shell.execute_reply.started": "2022-06-09T16:53:24.797952Z"
    }
   },
   "outputs": [],
   "source": [
    "cat_cols"
   ]
  },
  {
   "cell_type": "code",
   "execution_count": null,
   "metadata": {
    "execution": {
     "iopub.execute_input": "2022-06-09T16:53:24.808470Z",
     "iopub.status.busy": "2022-06-09T16:53:24.807999Z",
     "iopub.status.idle": "2022-06-09T16:53:24.821797Z",
     "shell.execute_reply": "2022-06-09T16:53:24.820631Z",
     "shell.execute_reply.started": "2022-06-09T16:53:24.808426Z"
    }
   },
   "outputs": [],
   "source": [
    "df_cat = df_final[cat_cols]"
   ]
  },
  {
   "cell_type": "code",
   "execution_count": null,
   "metadata": {
    "execution": {
     "iopub.execute_input": "2022-06-09T16:53:24.823798Z",
     "iopub.status.busy": "2022-06-09T16:53:24.823419Z",
     "iopub.status.idle": "2022-06-09T16:53:24.854613Z",
     "shell.execute_reply": "2022-06-09T16:53:24.853678Z",
     "shell.execute_reply.started": "2022-06-09T16:53:24.823768Z"
    }
   },
   "outputs": [],
   "source": [
    "#Performing encoding for the columns\n",
    "df_dummies=pd.get_dummies(df_cat[['home_ownership','grade','verification_status']],drop_first=True)\n",
    "df_dummies.shape"
   ]
  },
  {
   "cell_type": "code",
   "execution_count": null,
   "metadata": {
    "execution": {
     "iopub.execute_input": "2022-06-09T16:53:24.856170Z",
     "iopub.status.busy": "2022-06-09T16:53:24.855805Z",
     "iopub.status.idle": "2022-06-09T16:53:24.871875Z",
     "shell.execute_reply": "2022-06-09T16:53:24.871020Z",
     "shell.execute_reply.started": "2022-06-09T16:53:24.856138Z"
    }
   },
   "outputs": [],
   "source": [
    "#Performing label encoding for Addr_state\n",
    "state=df_cat['addr_state'].unique()\n",
    "add_dict={}\n",
    "j=1\n",
    "for i in state:\n",
    "    add_dict[i]=j\n",
    "    j=j+1\n",
    "df_cat['addr_state']=df_cat['addr_state'].map(add_dict)\n"
   ]
  },
  {
   "cell_type": "code",
   "execution_count": null,
   "metadata": {
    "execution": {
     "iopub.execute_input": "2022-06-09T16:53:24.874242Z",
     "iopub.status.busy": "2022-06-09T16:53:24.873320Z",
     "iopub.status.idle": "2022-06-09T16:53:24.892516Z",
     "shell.execute_reply": "2022-06-09T16:53:24.891747Z",
     "shell.execute_reply.started": "2022-06-09T16:53:24.874204Z"
    }
   },
   "outputs": [],
   "source": [
    "#Performing label encoding for purpose\n",
    "purpose=df_cat['purpose'].unique()\n",
    "purpose_dict={}\n",
    "j=1\n",
    "for i in purpose:\n",
    "    purpose_dict[i]=j\n",
    "    j=j+1\n",
    "df_cat['purpose']=df_cat['purpose'].map(purpose_dict)    "
   ]
  },
  {
   "cell_type": "code",
   "execution_count": null,
   "metadata": {
    "execution": {
     "iopub.execute_input": "2022-06-09T16:53:24.894201Z",
     "iopub.status.busy": "2022-06-09T16:53:24.893728Z",
     "iopub.status.idle": "2022-06-09T16:53:24.902276Z",
     "shell.execute_reply": "2022-06-09T16:53:24.901129Z",
     "shell.execute_reply.started": "2022-06-09T16:53:24.894170Z"
    }
   },
   "outputs": [],
   "source": [
    "#Dropping columns home_ownership,verification_status,term_months,grade\n",
    "df_cat.drop(columns=['home_ownership','grade','verification_status'],inplace=True)"
   ]
  },
  {
   "cell_type": "code",
   "execution_count": null,
   "metadata": {
    "execution": {
     "iopub.execute_input": "2022-06-09T16:53:24.904313Z",
     "iopub.status.busy": "2022-06-09T16:53:24.903618Z",
     "iopub.status.idle": "2022-06-09T16:53:24.918141Z",
     "shell.execute_reply": "2022-06-09T16:53:24.916866Z",
     "shell.execute_reply.started": "2022-06-09T16:53:24.904276Z"
    }
   },
   "outputs": [],
   "source": [
    "#concatenating the df_dummies, df_cat\n",
    "df_cat=pd.concat([df_cat,df_dummies],axis=1)\n",
    "df_cat.shape"
   ]
  },
  {
   "cell_type": "code",
   "execution_count": null,
   "metadata": {
    "execution": {
     "iopub.execute_input": "2022-06-09T16:53:24.920842Z",
     "iopub.status.busy": "2022-06-09T16:53:24.920263Z",
     "iopub.status.idle": "2022-06-09T16:53:24.953856Z",
     "shell.execute_reply": "2022-06-09T16:53:24.952565Z",
     "shell.execute_reply.started": "2022-06-09T16:53:24.920795Z"
    }
   },
   "outputs": [],
   "source": [
    "df_cat.sample(20)"
   ]
  },
  {
   "cell_type": "code",
   "execution_count": null,
   "metadata": {
    "execution": {
     "iopub.execute_input": "2022-06-09T16:53:24.956296Z",
     "iopub.status.busy": "2022-06-09T16:53:24.955389Z",
     "iopub.status.idle": "2022-06-09T16:53:24.964666Z",
     "shell.execute_reply": "2022-06-09T16:53:24.963265Z",
     "shell.execute_reply.started": "2022-06-09T16:53:24.956245Z"
    }
   },
   "outputs": [],
   "source": [
    "df_cat.drop(['emp_title','title','sub_grade'],axis = 1,inplace = True)"
   ]
  },
  {
   "cell_type": "code",
   "execution_count": null,
   "metadata": {
    "execution": {
     "iopub.execute_input": "2022-06-09T16:53:24.966560Z",
     "iopub.status.busy": "2022-06-09T16:53:24.966196Z",
     "iopub.status.idle": "2022-06-09T16:53:24.992218Z",
     "shell.execute_reply": "2022-06-09T16:53:24.991426Z",
     "shell.execute_reply.started": "2022-06-09T16:53:24.966523Z"
    },
    "scrolled": true
   },
   "outputs": [],
   "source": [
    "df_cat.sample(10)"
   ]
  },
  {
   "cell_type": "code",
   "execution_count": null,
   "metadata": {
    "execution": {
     "iopub.execute_input": "2022-06-09T16:53:24.994101Z",
     "iopub.status.busy": "2022-06-09T16:53:24.993617Z",
     "iopub.status.idle": "2022-06-09T16:53:25.003318Z",
     "shell.execute_reply": "2022-06-09T16:53:25.002398Z",
     "shell.execute_reply.started": "2022-06-09T16:53:24.994055Z"
    }
   },
   "outputs": [],
   "source": [
    "df_num = df_final.select_dtypes(include = np.number)"
   ]
  },
  {
   "cell_type": "code",
   "execution_count": null,
   "metadata": {},
   "outputs": [],
   "source": []
  },
  {
   "cell_type": "markdown",
   "metadata": {
    "papermill": {
     "duration": 0.312926,
     "end_time": "2021-05-23T13:56:35.865123",
     "exception": false,
     "start_time": "2021-05-23T13:56:35.552197",
     "status": "completed"
    },
    "tags": []
   },
   "source": [
    "# Feature selection "
   ]
  },
  {
   "cell_type": "code",
   "execution_count": null,
   "metadata": {
    "execution": {
     "iopub.execute_input": "2022-06-09T16:53:25.005451Z",
     "iopub.status.busy": "2022-06-09T16:53:25.004694Z",
     "iopub.status.idle": "2022-06-09T16:53:25.016188Z",
     "shell.execute_reply": "2022-06-09T16:53:25.015114Z",
     "shell.execute_reply.started": "2022-06-09T16:53:25.005404Z"
    },
    "papermill": {
     "duration": 0.990231,
     "end_time": "2021-05-23T13:56:37.16667",
     "exception": false,
     "start_time": "2021-05-23T13:56:36.176439",
     "status": "completed"
    },
    "tags": []
   },
   "outputs": [],
   "source": [
    "from sklearn.feature_selection import mutual_info_classif,mutual_info_regression\n",
    "from mlxtend.feature_selection import SequentialFeatureSelector\n",
    "from sklearn.linear_model import LogisticRegression"
   ]
  },
  {
   "cell_type": "code",
   "execution_count": null,
   "metadata": {
    "execution": {
     "iopub.execute_input": "2022-06-09T16:53:25.018570Z",
     "iopub.status.busy": "2022-06-09T16:53:25.017516Z",
     "iopub.status.idle": "2022-06-09T16:53:27.126490Z",
     "shell.execute_reply": "2022-06-09T16:53:27.125469Z",
     "shell.execute_reply.started": "2022-06-09T16:53:25.018511Z"
    },
    "papermill": {
     "duration": 1.697212,
     "end_time": "2021-05-23T13:56:39.171613",
     "exception": false,
     "start_time": "2021-05-23T13:56:37.474401",
     "status": "completed"
    },
    "tags": []
   },
   "outputs": [],
   "source": [
    "plt.figure(figsize=(15,8))\n",
    "sns.heatmap(df_num.corr(),annot=True)"
   ]
  },
  {
   "cell_type": "code",
   "execution_count": null,
   "metadata": {
    "execution": {
     "iopub.execute_input": "2022-06-09T16:53:27.128009Z",
     "iopub.status.busy": "2022-06-09T16:53:27.127680Z",
     "iopub.status.idle": "2022-06-09T16:53:27.132470Z",
     "shell.execute_reply": "2022-06-09T16:53:27.131454Z",
     "shell.execute_reply.started": "2022-06-09T16:53:27.127979Z"
    }
   },
   "outputs": [],
   "source": [
    "#The features of loan_amnt, funded_amnt_inv, installment have high correlation. So dropping two columns among them"
   ]
  },
  {
   "cell_type": "code",
   "execution_count": null,
   "metadata": {
    "execution": {
     "iopub.execute_input": "2022-06-09T16:53:27.134001Z",
     "iopub.status.busy": "2022-06-09T16:53:27.133669Z",
     "iopub.status.idle": "2022-06-09T16:53:28.959374Z",
     "shell.execute_reply": "2022-06-09T16:53:28.958432Z",
     "shell.execute_reply.started": "2022-06-09T16:53:27.133970Z"
    },
    "papermill": {
     "duration": 1.408083,
     "end_time": "2021-05-23T13:56:40.895171",
     "exception": false,
     "start_time": "2021-05-23T13:56:39.487088",
     "status": "completed"
    },
    "scrolled": true,
    "tags": []
   },
   "outputs": [],
   "source": [
    "#The features of loan_amnt, funded_amnt_inv, installment have high correlation. So dropping two columns among them\n",
    "plt.figure(figsize=(15,8))\n",
    "sns.heatmap(df_num.drop(columns=['loan_amnt','installment']).corr(),annot=True)"
   ]
  },
  {
   "cell_type": "code",
   "execution_count": null,
   "metadata": {},
   "outputs": [],
   "source": []
  },
  {
   "cell_type": "code",
   "execution_count": null,
   "metadata": {
    "execution": {
     "iopub.execute_input": "2022-06-09T16:53:28.960953Z",
     "iopub.status.busy": "2022-06-09T16:53:28.960614Z",
     "iopub.status.idle": "2022-06-09T16:53:30.772849Z",
     "shell.execute_reply": "2022-06-09T16:53:30.771795Z",
     "shell.execute_reply.started": "2022-06-09T16:53:28.960915Z"
    },
    "papermill": {
     "duration": 1.398588,
     "end_time": "2021-05-23T13:56:50.512711",
     "exception": false,
     "start_time": "2021-05-23T13:56:49.114123",
     "status": "completed"
    },
    "scrolled": true,
    "tags": []
   },
   "outputs": [],
   "source": [
    "plt.figure(figsize=(12,7))\n",
    "sns.heatmap(df_num.drop(columns=['funded_amnt_inv','loan_amnt']).corr(),annot=True)"
   ]
  },
  {
   "cell_type": "code",
   "execution_count": null,
   "metadata": {
    "execution": {
     "iopub.execute_input": "2022-06-09T16:53:30.774292Z",
     "iopub.status.busy": "2022-06-09T16:53:30.773991Z",
     "iopub.status.idle": "2022-06-09T16:53:30.779457Z",
     "shell.execute_reply": "2022-06-09T16:53:30.778399Z",
     "shell.execute_reply.started": "2022-06-09T16:53:30.774264Z"
    }
   },
   "outputs": [],
   "source": [
    "y=df_final['loan_status']"
   ]
  },
  {
   "cell_type": "code",
   "execution_count": null,
   "metadata": {
    "execution": {
     "iopub.execute_input": "2022-06-09T16:53:30.781090Z",
     "iopub.status.busy": "2022-06-09T16:53:30.780733Z",
     "iopub.status.idle": "2022-06-09T16:53:33.470819Z",
     "shell.execute_reply": "2022-06-09T16:53:33.469899Z",
     "shell.execute_reply.started": "2022-06-09T16:53:30.781058Z"
    },
    "papermill": {
     "duration": 3.527771,
     "end_time": "2021-05-23T13:56:54.36188",
     "exception": false,
     "start_time": "2021-05-23T13:56:50.834109",
     "status": "completed"
    },
    "tags": []
   },
   "outputs": [],
   "source": [
    "#Calculating the feature importance for categorical columns\n",
    "feature_importances_cat=mutual_info_classif(df_cat,y)\n",
    "features_importances_cat=pd.Series(feature_importances_cat,df_cat.columns[0:len(df_cat.columns)])\n",
    "features_importances_cat.plot(kind='barh')\n",
    "plt.show()"
   ]
  },
  {
   "cell_type": "code",
   "execution_count": null,
   "metadata": {
    "execution": {
     "iopub.execute_input": "2022-06-09T16:53:33.472573Z",
     "iopub.status.busy": "2022-06-09T16:53:33.472184Z",
     "iopub.status.idle": "2022-06-09T16:53:33.511763Z",
     "shell.execute_reply": "2022-06-09T16:53:33.510759Z",
     "shell.execute_reply.started": "2022-06-09T16:53:33.472540Z"
    },
    "papermill": {
     "duration": 0.358703,
     "end_time": "2021-05-23T13:56:55.053127",
     "exception": false,
     "start_time": "2021-05-23T13:56:54.694424",
     "status": "completed"
    },
    "tags": []
   },
   "outputs": [],
   "source": [
    "#Concating the df_num,df_cat to a single dataframe\n",
    "df2=pd.concat([df_num,df_cat],axis=1)\n",
    "print(df2.shape)\n",
    "df2.head()"
   ]
  },
  {
   "cell_type": "code",
   "execution_count": null,
   "metadata": {
    "execution": {
     "iopub.execute_input": "2022-06-09T16:53:33.513158Z",
     "iopub.status.busy": "2022-06-09T16:53:33.512833Z",
     "iopub.status.idle": "2022-06-09T16:53:33.522961Z",
     "shell.execute_reply": "2022-06-09T16:53:33.521963Z",
     "shell.execute_reply.started": "2022-06-09T16:53:33.513129Z"
    }
   },
   "outputs": [],
   "source": [
    "df2_final = df2.drop(['loan_status'],axis = 1)"
   ]
  },
  {
   "cell_type": "code",
   "execution_count": null,
   "metadata": {
    "execution": {
     "iopub.execute_input": "2022-06-09T16:53:33.524711Z",
     "iopub.status.busy": "2022-06-09T16:53:33.524083Z",
     "iopub.status.idle": "2022-06-09T16:53:33.531017Z",
     "shell.execute_reply": "2022-06-09T16:53:33.529986Z",
     "shell.execute_reply.started": "2022-06-09T16:53:33.524678Z"
    },
    "papermill": {
     "duration": 614.636316,
     "end_time": "2021-05-23T14:07:10.020533",
     "exception": false,
     "start_time": "2021-05-23T13:56:55.384217",
     "status": "completed"
    },
    "tags": []
   },
   "outputs": [],
   "source": [
    "#Using Sequential Feature selection technique and applying forward substitution\n",
    "lr=LogisticRegression(max_iter=5000)\n"
   ]
  },
  {
   "cell_type": "code",
   "execution_count": null,
   "metadata": {
    "execution": {
     "iopub.execute_input": "2022-06-09T17:03:20.883826Z",
     "iopub.status.busy": "2022-06-09T17:03:20.882905Z"
    }
   },
   "outputs": [],
   "source": [
    "sfs_forward=SequentialFeatureSelector(lr,k_features=25)\n",
    "sfs_forward.fit(df2_final,y)\n",
    "sfs_forward.k_feature_names_"
   ]
  },
  {
   "cell_type": "code",
   "execution_count": null,
   "metadata": {
    "execution": {
     "iopub.execute_input": "2022-06-09T17:02:56.734535Z",
     "iopub.status.busy": "2022-06-09T17:02:56.733861Z",
     "iopub.status.idle": "2022-06-09T17:03:05.462776Z",
     "shell.execute_reply": "2022-06-09T17:03:05.456901Z",
     "shell.execute_reply.started": "2022-06-09T17:02:56.734463Z"
    },
    "papermill": {
     "duration": 311.078257,
     "end_time": "2021-05-23T14:12:21.424154",
     "exception": false,
     "start_time": "2021-05-23T14:07:10.345897",
     "status": "completed"
    },
    "tags": []
   },
   "outputs": [],
   "source": [
    "#Using Sequential Feature selection technique and applying backward elimination\n",
    "sfs_backward=SequentialFeatureSelector(lr,k_features=25,forward=False)\n",
    "sfs_backward.fit(df2_final,y)\n",
    "sfs_backward.k_feature_names_"
   ]
  },
  {
   "cell_type": "code",
   "execution_count": null,
   "metadata": {
    "papermill": {
     "duration": 0.323147,
     "end_time": "2021-05-23T14:12:22.77605",
     "exception": false,
     "start_time": "2021-05-23T14:12:22.452903",
     "status": "completed"
    },
    "tags": []
   },
   "outputs": [],
   "source": [
    "from sklearn.feature_selection import RFECV\n",
    "\n",
    "\n",
    "\n",
    "rfecv = RFECV(\n",
    "    estimator=LogisticRegression(),\n",
    "    min_features_to_select=10,\n",
    "    step=5,\n",
    "    n_jobs=-1,\n",
    "    scoring=\"r2\",\n",
    "    cv=5,\n",
    ")   \n",
    "\n",
    "rfecv_log = rfecv.fit(df2_final, y)"
   ]
  },
  {
   "cell_type": "code",
   "execution_count": null,
   "metadata": {},
   "outputs": [],
   "source": []
  },
  {
   "cell_type": "code",
   "execution_count": null,
   "metadata": {},
   "outputs": [],
   "source": [
    "len(df2_final.loc[:,rfecv_log.support_].columns)"
   ]
  },
  {
   "cell_type": "code",
   "execution_count": null,
   "metadata": {},
   "outputs": [],
   "source": [
    "# best features to select are 23 \n",
    "df2_final_rfe = df2_final.loc[:,rfecv_log.support_]"
   ]
  },
  {
   "cell_type": "code",
   "execution_count": null,
   "metadata": {},
   "outputs": [],
   "source": [
    "features = df2_final_rfe.columns"
   ]
  },
  {
   "cell_type": "code",
   "execution_count": null,
   "metadata": {},
   "outputs": [],
   "source": [
    "features"
   ]
  },
  {
   "cell_type": "code",
   "execution_count": null,
   "metadata": {},
   "outputs": [],
   "source": [
    "features"
   ]
  },
  {
   "cell_type": "markdown",
   "metadata": {
    "papermill": {
     "duration": 0.347195,
     "end_time": "2021-05-23T14:12:23.454142",
     "exception": false,
     "start_time": "2021-05-23T14:12:23.106947",
     "status": "completed"
    },
    "tags": []
   },
   "source": [
    "# Scaling the features"
   ]
  },
  {
   "cell_type": "code",
   "execution_count": null,
   "metadata": {},
   "outputs": [],
   "source": [
    "from sklearn.preprocessing import StandardScaler\n",
    "sc=StandardScaler()\n",
    "x=df2_final_rfe\n",
    "x_scaled = pd.DataFrame(sc.fit_transform(x),columns=x.columns)"
   ]
  },
  {
   "cell_type": "code",
   "execution_count": null,
   "metadata": {},
   "outputs": [],
   "source": [
    "# The scaled data will only be used for logistic regression and KNN \n",
    "# as these algorithms are distance based ."
   ]
  },
  {
   "cell_type": "code",
   "execution_count": null,
   "metadata": {
    "scrolled": false
   },
   "outputs": [],
   "source": [
    "df2_final_rfe.info()"
   ]
  },
  {
   "cell_type": "code",
   "execution_count": null,
   "metadata": {},
   "outputs": [],
   "source": [
    "df2_final_rfe.head()"
   ]
  },
  {
   "cell_type": "code",
   "execution_count": null,
   "metadata": {},
   "outputs": [],
   "source": [
    "features"
   ]
  },
  {
   "cell_type": "code",
   "execution_count": null,
   "metadata": {
    "execution": {
     "iopub.status.busy": "2022-06-09T17:03:05.473139Z",
     "iopub.status.idle": "2022-06-09T17:03:05.474137Z",
     "shell.execute_reply": "2022-06-09T17:03:05.473940Z",
     "shell.execute_reply.started": "2022-06-09T17:03:05.473916Z"
    }
   },
   "outputs": [],
   "source": [
    "df2_final_rfe.shape"
   ]
  },
  {
   "cell_type": "markdown",
   "metadata": {
    "papermill": {
     "duration": 0.315074,
     "end_time": "2021-05-23T14:12:25.424834",
     "exception": false,
     "start_time": "2021-05-23T14:12:25.10976",
     "status": "completed"
    },
    "tags": []
   },
   "source": [
    "# Balancing the dataset"
   ]
  },
  {
   "cell_type": "markdown",
   "metadata": {
    "papermill": {
     "duration": 0.318964,
     "end_time": "2021-05-23T14:12:26.06645",
     "exception": false,
     "start_time": "2021-05-23T14:12:25.747486",
     "status": "completed"
    },
    "tags": []
   },
   "source": [
    "The project on loan default model is very much analagous to the defect or disease capturing models where there will be always more data on OK and only fewer example data on NOT OK or default issues. Such data is the natural data on a practical real life situation and hence does not need tp be balanced."
   ]
  },
  {
   "cell_type": "markdown",
   "metadata": {
    "papermill": {
     "duration": 0.318982,
     "end_time": "2021-05-23T14:12:26.701883",
     "exception": false,
     "start_time": "2021-05-23T14:12:26.382901",
     "status": "completed"
    },
    "tags": []
   },
   "source": [
    "## Train test split"
   ]
  },
  {
   "cell_type": "code",
   "execution_count": null,
   "metadata": {
    "execution": {
     "iopub.status.busy": "2022-06-09T17:03:05.482231Z",
     "iopub.status.idle": "2022-06-09T17:03:05.482803Z",
     "shell.execute_reply": "2022-06-09T17:03:05.482637Z",
     "shell.execute_reply.started": "2022-06-09T17:03:05.482617Z"
    },
    "papermill": {
     "duration": 0.341194,
     "end_time": "2021-05-23T14:12:27.374122",
     "exception": false,
     "start_time": "2021-05-23T14:12:27.032928",
     "status": "completed"
    },
    "tags": []
   },
   "outputs": [],
   "source": [
    "# non scaled data \n",
    "from sklearn.model_selection import train_test_split\n",
    "\n",
    "Xtrain,Xtest,ytrain,ytest=train_test_split(df2_final_rfe , y , test_size=0.3 , random_state=10)"
   ]
  },
  {
   "cell_type": "code",
   "execution_count": null,
   "metadata": {},
   "outputs": [],
   "source": [
    "# scaled data for logistic regression and KNN\n",
    "Xtrain_scaled,Xtest_scaled,ytrain_sc,ytest_sc = train_test_split(x_scaled,y,test_size = 0.3,random_state = 10)"
   ]
  },
  {
   "cell_type": "markdown",
   "metadata": {
    "papermill": {
     "duration": 0.320138,
     "end_time": "2021-05-23T14:12:28.01882",
     "exception": false,
     "start_time": "2021-05-23T14:12:27.698682",
     "status": "completed"
    },
    "tags": []
   },
   "source": [
    "# Building the models"
   ]
  },
  {
   "cell_type": "code",
   "execution_count": null,
   "metadata": {
    "execution": {
     "iopub.status.busy": "2022-06-09T17:03:05.490120Z",
     "iopub.status.idle": "2022-06-09T17:03:05.490522Z",
     "shell.execute_reply": "2022-06-09T17:03:05.490340Z",
     "shell.execute_reply.started": "2022-06-09T17:03:05.490321Z"
    }
   },
   "outputs": [],
   "source": [
    "pip install xgboost"
   ]
  },
  {
   "cell_type": "code",
   "execution_count": null,
   "metadata": {
    "execution": {
     "iopub.status.busy": "2022-06-09T17:03:05.491731Z",
     "iopub.status.idle": "2022-06-09T17:03:05.492123Z",
     "shell.execute_reply": "2022-06-09T17:03:05.491953Z",
     "shell.execute_reply.started": "2022-06-09T17:03:05.491934Z"
    },
    "papermill": {
     "duration": 0.635809,
     "end_time": "2021-05-23T14:12:28.976599",
     "exception": false,
     "start_time": "2021-05-23T14:12:28.34079",
     "status": "completed"
    },
    "tags": []
   },
   "outputs": [],
   "source": [
    "from sklearn.neighbors import KNeighborsClassifier\n",
    "from sklearn.model_selection import cross_val_score, GridSearchCV, RepeatedKFold\n",
    "from sklearn.metrics import accuracy_score, auc, roc_auc_score,roc_curve,classification_report, confusion_matrix,f1_score \n",
    "from sklearn.metrics import precision_score,recall_score\n",
    "from sklearn.tree import DecisionTreeClassifier\n",
    "from xgboost import XGBClassifier\n",
    "from sklearn.ensemble import GradientBoostingClassifier,RandomForestClassifier\n",
    "from sklearn.linear_model import LogisticRegression\n",
    "from sklearn.naive_bayes import GaussianNB\n",
    "from sklearn.neighbors import KNeighborsClassifier\n",
    "import warnings\n",
    "warnings.filterwarnings('ignore')"
   ]
  },
  {
   "cell_type": "markdown",
   "metadata": {
    "papermill": {
     "duration": 0.3391,
     "end_time": "2021-05-23T16:22:31.463961",
     "exception": false,
     "start_time": "2021-05-23T16:22:31.124861",
     "status": "completed"
    },
    "tags": []
   },
   "source": [
    "# Logistic Regression"
   ]
  },
  {
   "cell_type": "code",
   "execution_count": null,
   "metadata": {
    "execution": {
     "iopub.status.busy": "2022-06-09T17:03:05.493358Z",
     "iopub.status.idle": "2022-06-09T17:03:05.493759Z",
     "shell.execute_reply": "2022-06-09T17:03:05.493599Z",
     "shell.execute_reply.started": "2022-06-09T17:03:05.493580Z"
    }
   },
   "outputs": [],
   "source": [
    "# training data \n",
    "from sklearn.metrics import classification_report\n",
    "logreg = LogisticRegression(random_state=10)\n",
    "logreg.fit(Xtrain_scaled, ytrain_sc)\n",
    "ypred_logre = logreg.predict(Xtrain_scaled)\n",
    "\n",
    "print(classification_report(ytrain_sc, ypred_logre))\n"
   ]
  },
  {
   "cell_type": "code",
   "execution_count": null,
   "metadata": {
    "scrolled": true
   },
   "outputs": [],
   "source": [
    "log_reg = LogisticRegression(random_state=10)\n",
    "log_reg.fit(Xtrain_scaled, ytrain_sc)\n",
    "log_reg_train = log_reg.predict(Xtrain_scaled)\n",
    "\n",
    "print(\"Train report\\n\\n\",classification_report(ytrain_sc, log_reg_train))\n",
    "print(\"Train f1_score \\n\\n\",f1_score(ytrain_sc, log_reg_train),\"\\n\")\n",
    "log_reg_test = log_reg.predict(Xtest_scaled)\n",
    "print(\"Test report\\n\\n\",classification_report(ytest_sc, log_reg_test))\n",
    "print(\"Test f1_score \\n\",f1_score(ytest_sc, log_reg_test))"
   ]
  },
  {
   "cell_type": "code",
   "execution_count": null,
   "metadata": {},
   "outputs": [],
   "source": [
    "# trying to increase the accuracy"
   ]
  },
  {
   "cell_type": "code",
   "execution_count": null,
   "metadata": {},
   "outputs": [],
   "source": [
    "param = {'penalty':['l1','l2','elasticnet']}\n",
    "grid_log = GridSearchCV(LogisticRegression(random_state= 10),param_grid= param)"
   ]
  },
  {
   "cell_type": "code",
   "execution_count": null,
   "metadata": {},
   "outputs": [],
   "source": [
    "grid_log_best = grid_log.fit(df2_final_rfe,y)"
   ]
  },
  {
   "cell_type": "code",
   "execution_count": null,
   "metadata": {
    "scrolled": true
   },
   "outputs": [],
   "source": [
    "grid_log_best.best_params_"
   ]
  },
  {
   "cell_type": "code",
   "execution_count": null,
   "metadata": {},
   "outputs": [],
   "source": [
    "# by default logistic regression uses l2 penalty so this is the best f1_score we can get "
   ]
  },
  {
   "cell_type": "code",
   "execution_count": null,
   "metadata": {},
   "outputs": [],
   "source": [
    "# There is no hint of overfitting or underfitting of the model.\n",
    "# so it is safe to go ahead and build out final logistic model"
   ]
  },
  {
   "cell_type": "code",
   "execution_count": null,
   "metadata": {},
   "outputs": [],
   "source": []
  },
  {
   "cell_type": "code",
   "execution_count": null,
   "metadata": {},
   "outputs": [],
   "source": [
    "# final model \n",
    "from sklearn.metrics import classification_report\n",
    "logreg = LogisticRegression(random_state=10)\n",
    "logreg.fit(Xtrain_scaled, ytrain_sc)\n",
    "ypred_logreg = logreg.predict(Xtest_scaled)\n",
    "\n",
    "print(classification_report(ytest_sc, ypred_logreg))\n"
   ]
  },
  {
   "cell_type": "code",
   "execution_count": null,
   "metadata": {},
   "outputs": [],
   "source": [
    "ypred_logreg"
   ]
  },
  {
   "cell_type": "code",
   "execution_count": null,
   "metadata": {},
   "outputs": [],
   "source": [
    "accuracy_logreg = accuracy_score(ytest, ypred_logreg)"
   ]
  },
  {
   "cell_type": "code",
   "execution_count": null,
   "metadata": {
    "execution": {
     "iopub.status.busy": "2022-06-09T17:03:05.496478Z",
     "iopub.status.idle": "2022-06-09T17:03:05.496887Z",
     "shell.execute_reply": "2022-06-09T17:03:05.496731Z",
     "shell.execute_reply.started": "2022-06-09T17:03:05.496712Z"
    }
   },
   "outputs": [],
   "source": [
    "logreg = LogisticRegression(random_state=10)\n",
    "logreg.fit(Xtrain_scaled, ytrain_sc)\n",
    "ypred_logreg = logreg.predict(Xtest_scaled)\n",
    "accuracy_logreg = accuracy_score(ytest_sc, ypred_logreg)\n",
    "f1_logreg = f1_score(ytest_sc, ypred_logreg)\n",
    "precision_logreg = precision_score(ytest_sc, ypred_logreg)\n",
    "recall_logreg = recall_score(ytest_sc, ypred_logreg)\n",
    "auc_logreg = roc_auc_score(ytest_sc, ypred_logreg)\n",
    "conf_logreg = confusion_matrix(ytest_sc, ypred_logreg)\n",
    "print('Confusion matrix:\\n',conf_logreg)\n",
    "print('Auc:',auc_logreg)\n",
    "print('Recall:',recall_logreg)\n",
    "print('Precision:',precision_logreg)\n",
    "print('f1_score:',f1_logreg)\n",
    "print('Accuracy:',accuracy_logreg)"
   ]
  },
  {
   "cell_type": "code",
   "execution_count": null,
   "metadata": {
    "execution": {
     "iopub.status.busy": "2022-06-09T17:03:05.498166Z",
     "iopub.status.idle": "2022-06-09T17:03:05.498568Z",
     "shell.execute_reply": "2022-06-09T17:03:05.498378Z",
     "shell.execute_reply.started": "2022-06-09T17:03:05.498361Z"
    },
    "papermill": {
     "duration": 0.530776,
     "end_time": "2021-05-23T16:22:34.350943",
     "exception": false,
     "start_time": "2021-05-23T16:22:33.820167",
     "status": "completed"
    },
    "scrolled": false,
    "tags": []
   },
   "outputs": [],
   "source": [
    "y_pred_prob_logreg = logreg.predict_proba(Xtest_scaled)\n",
    "y_pred_prob_logreg1 = logreg.predict_proba(Xtrain_scaled)\n",
    "fpr,tpr,th = roc_curve(ytest,y_pred_prob_logreg[:,1])\n",
    "plt.plot([0,1],[0,1],'r--')\n",
    "plt.plot(fpr, tpr)\n",
    "plt.grid(True)\n",
    "plt.show()"
   ]
  },
  {
   "cell_type": "markdown",
   "metadata": {},
   "source": [
    "# Decision tree classifier"
   ]
  },
  {
   "cell_type": "code",
   "execution_count": null,
   "metadata": {},
   "outputs": [],
   "source": [
    "# The overall model has not been very good in predicting the loan defaulter.\n",
    "# the category 1 has a very less accuracy.\n",
    "# now we can try different models and fine tune to the best model for this data.\n"
   ]
  },
  {
   "cell_type": "code",
   "execution_count": null,
   "metadata": {},
   "outputs": [],
   "source": [
    "from sklearn.tree import DecisionTreeClassifier"
   ]
  },
  {
   "cell_type": "code",
   "execution_count": null,
   "metadata": {},
   "outputs": [],
   "source": [
    "dtc = DecisionTreeClassifier(random_state=10)"
   ]
  },
  {
   "cell_type": "code",
   "execution_count": null,
   "metadata": {},
   "outputs": [],
   "source": [
    "dtc.fit(Xtrain,ytrain)"
   ]
  },
  {
   "cell_type": "code",
   "execution_count": null,
   "metadata": {},
   "outputs": [],
   "source": [
    "pred_dtc = dtc.predict(Xtest)"
   ]
  },
  {
   "cell_type": "code",
   "execution_count": null,
   "metadata": {
    "scrolled": false
   },
   "outputs": [],
   "source": [
    "print(classification_report(ytest,pred_dtc))"
   ]
  },
  {
   "cell_type": "code",
   "execution_count": null,
   "metadata": {},
   "outputs": [],
   "source": [
    "f1_logreg = f1_score(ytest,pred_dtc)"
   ]
  },
  {
   "cell_type": "code",
   "execution_count": null,
   "metadata": {
    "scrolled": true
   },
   "outputs": [],
   "source": [
    "f1_logreg"
   ]
  },
  {
   "cell_type": "code",
   "execution_count": null,
   "metadata": {},
   "outputs": [],
   "source": [
    "# f1_score has increased drastically from 0.5 to 0.85 due to decision tree."
   ]
  },
  {
   "cell_type": "code",
   "execution_count": null,
   "metadata": {},
   "outputs": [],
   "source": [
    "# lets check for overfitting or underftitting of the model\n",
    "dtc_train = DecisionTreeClassifier(random_state= 10)\n",
    "dtc_train.fit(Xtrain, ytrain)\n",
    "dtc_pred_train = dtc_train.predict(Xtrain)\n",
    "\n",
    "print(\"Train report\\n\\n\",classification_report(ytrain, dtc_pred_train))\n",
    "print(\"Train f1_score \\n\\n\",f1_score(ytrain, dtc_pred_train))\n",
    "dtc_pred_test = dtc_train.predict(Xtest)\n",
    "print(\"Test report\\n\\n\",classification_report(ytest, dtc_pred_test))\n",
    "print(\"Test f1_score \\n\",f1_score(ytest, dtc_pred_test))"
   ]
  },
  {
   "cell_type": "code",
   "execution_count": null,
   "metadata": {},
   "outputs": [],
   "source": [
    "# The model is visible to be  overfitting\n"
   ]
  },
  {
   "cell_type": "markdown",
   "metadata": {},
   "source": [
    "#### Cross validation on Decision Tree"
   ]
  },
  {
   "cell_type": "code",
   "execution_count": null,
   "metadata": {},
   "outputs": [],
   "source": [
    "# Lets check how well the model is performing on unseen data using cross validation"
   ]
  },
  {
   "cell_type": "code",
   "execution_count": null,
   "metadata": {},
   "outputs": [],
   "source": [
    "# We are performing a cross validation on non hypertuned Decision tree model"
   ]
  },
  {
   "cell_type": "code",
   "execution_count": null,
   "metadata": {},
   "outputs": [],
   "source": [
    "from sklearn.model_selection import cross_val_score\n",
    "\n",
    "cv_decision = cross_val_score(DecisionTreeClassifier(random_state = 10),df2_final_rfe,y,cv = 10)\n",
    "# we are checking the cv score 10 fold"
   ]
  },
  {
   "cell_type": "code",
   "execution_count": null,
   "metadata": {},
   "outputs": [],
   "source": [
    "cv_decision.mean()"
   ]
  },
  {
   "cell_type": "code",
   "execution_count": null,
   "metadata": {},
   "outputs": [],
   "source": [
    "# The overall score from the decision tree is very high even with unseen data .\n",
    "# This model is performing good even when the parameters are not tuned."
   ]
  },
  {
   "cell_type": "markdown",
   "metadata": {},
   "source": [
    "#### Grid Search on Decision Tree"
   ]
  },
  {
   "cell_type": "code",
   "execution_count": null,
   "metadata": {},
   "outputs": [],
   "source": [
    "# Lets try if we can increase the f1_score of the model more."
   ]
  },
  {
   "cell_type": "code",
   "execution_count": null,
   "metadata": {},
   "outputs": [],
   "source": [
    "from sklearn.model_selection import GridSearchCV\n",
    "parameters_decision = {'criterion':[\"gini\", \"entropy\"],'splitter':[\"best\", \"random\"],'max_depth':[8,9,10,11,12,13,14,15,16],'min_samples_leaf':[2,3,4,5,6,7,8]}\n",
    "\n",
    "gd_decision = GridSearchCV(estimator=DecisionTreeClassifier(random_state= 10),param_grid=parameters_decision,cv = 5)"
   ]
  },
  {
   "cell_type": "code",
   "execution_count": null,
   "metadata": {
    "scrolled": true
   },
   "outputs": [],
   "source": [
    "gd_decision.fit(df2_final_rfe,y)"
   ]
  },
  {
   "cell_type": "code",
   "execution_count": null,
   "metadata": {},
   "outputs": [],
   "source": [
    "gd_decision.best_estimator_"
   ]
  },
  {
   "cell_type": "code",
   "execution_count": null,
   "metadata": {},
   "outputs": [],
   "source": [
    "gd_decision.best_params_"
   ]
  },
  {
   "cell_type": "code",
   "execution_count": null,
   "metadata": {},
   "outputs": [],
   "source": [
    "# These are the best parameters for decision tree that are providing the best score .\n",
    "# lets try to fit the model with these paramters and see if the overall f1_score has increased."
   ]
  },
  {
   "cell_type": "code",
   "execution_count": null,
   "metadata": {},
   "outputs": [],
   "source": [
    "decision_grid = DecisionTreeClassifier(criterion=\"entropy\",max_depth = 10 ,splitter = 'best',min_samples_leaf=6,random_state = 10)"
   ]
  },
  {
   "cell_type": "code",
   "execution_count": null,
   "metadata": {},
   "outputs": [],
   "source": [
    "decision_grid.fit(Xtrain,ytrain)\n",
    "y_pred_dec_grid = decision_grid.predict(Xtest)"
   ]
  },
  {
   "cell_type": "code",
   "execution_count": null,
   "metadata": {},
   "outputs": [],
   "source": [
    "y_pred_dec_grid"
   ]
  },
  {
   "cell_type": "code",
   "execution_count": null,
   "metadata": {},
   "outputs": [],
   "source": [
    "f1_score(ytest,y_pred_dec_grid)"
   ]
  },
  {
   "cell_type": "code",
   "execution_count": null,
   "metadata": {},
   "outputs": [],
   "source": [
    "# The f1_score has increased by 4%.\n",
    "# lets put cross validation on the hypertuned model and see how it performs on unseen data."
   ]
  },
  {
   "cell_type": "code",
   "execution_count": null,
   "metadata": {},
   "outputs": [],
   "source": [
    "from sklearn.model_selection import cross_val_score\n",
    "\n",
    "cv_decision_grid = cross_val_score(DecisionTreeClassifier(criterion=\"entropy\",max_depth = 10 ,splitter = 'best',min_samples_leaf =6,random_state = 10),df2_final_rfe,y,cv = 10)\n",
    "# we are checking the cv score 10 fold"
   ]
  },
  {
   "cell_type": "code",
   "execution_count": null,
   "metadata": {},
   "outputs": [],
   "source": [
    "cv_decision_grid"
   ]
  },
  {
   "cell_type": "code",
   "execution_count": null,
   "metadata": {},
   "outputs": [],
   "source": [
    "cv_decision_grid.mean()"
   ]
  },
  {
   "cell_type": "code",
   "execution_count": null,
   "metadata": {},
   "outputs": [],
   "source": [
    "# The mean of the cross validation has been increased by 2%\n",
    "# lets fit the model and see  accuracy and recall score's of the hypertuned model."
   ]
  },
  {
   "cell_type": "code",
   "execution_count": null,
   "metadata": {},
   "outputs": [],
   "source": [
    "decision_grid_final = DecisionTreeClassifier(criterion=\"entropy\",max_depth = 10 ,splitter = 'best',min_samples_leaf=6,random_state=10)\n",
    "decision_grid_final.fit(Xtrain,ytrain)\n",
    "ypred_grid_decision_final = decision_grid_final.predict(Xtest)"
   ]
  },
  {
   "cell_type": "code",
   "execution_count": null,
   "metadata": {},
   "outputs": [],
   "source": [
    "print(classification_report(ytest,ypred_grid_decision_final))"
   ]
  },
  {
   "cell_type": "code",
   "execution_count": null,
   "metadata": {},
   "outputs": [],
   "source": [
    "# Lets see if the model is overfitting or underfitting\n",
    "# lets check for overfitting or underftitting of the model\n",
    "dtc_grid_train = DecisionTreeClassifier(criterion=\"entropy\",max_depth = 10 ,splitter = 'best',min_samples_leaf=6,random_state=10)\n",
    "dtc_grid_train.fit(Xtrain, ytrain_sc)\n",
    "dtc_grid_pred_train = dtc_train.predict(Xtrain)\n",
    "\n",
    "print(\"Train report\\n\\n\",classification_report(ytrain, dtc_grid_pred_train))\n",
    "print(\"Train f1_score \\n\\n\",f1_score(ytrain, dtc_grid_pred_train))\n",
    "dtc_grid_pred_test = dtc_grid_train.predict(Xtest)\n",
    "print(\"Test report\\n\\n\",classification_report(ytest, dtc_grid_pred_test))\n",
    "print(\"Test f1_score \\n\",f1_score(ytest, dtc_grid_pred_test))"
   ]
  },
  {
   "cell_type": "code",
   "execution_count": null,
   "metadata": {},
   "outputs": [],
   "source": [
    "# The models overfitting has reduced a bit\n",
    "# but the model is still visible to be overfitting.\n",
    "# and is unable to generalise the given data."
   ]
  },
  {
   "cell_type": "code",
   "execution_count": null,
   "metadata": {},
   "outputs": [],
   "source": [
    "# Precision and recall have increased by a large margin when compared to base model (Logistic regression)."
   ]
  },
  {
   "cell_type": "code",
   "execution_count": null,
   "metadata": {},
   "outputs": [],
   "source": [
    "# Since the model is overfitting can resolve this issue with regularization.\n",
    "from sklearn.linear_model import RidgeClassifier\n",
    "\n",
    "ridge = RidgeClassifier(alpha = 0.1,random_state=10)\n",
    "ridge.fit(x_scaled,y)\n",
    "ridge.score(x_scaled,y)"
   ]
  },
  {
   "cell_type": "code",
   "execution_count": null,
   "metadata": {},
   "outputs": [],
   "source": [
    "cs_ridge = cross_val_score(ridge,x_scaled,y,cv = 10)\n",
    "cs_ridge.mean()"
   ]
  },
  {
   "cell_type": "code",
   "execution_count": null,
   "metadata": {},
   "outputs": [],
   "source": []
  },
  {
   "cell_type": "code",
   "execution_count": null,
   "metadata": {},
   "outputs": [],
   "source": [
    "from sklearn.linear_model import RidgeClassifierCV\n",
    "ridgecv = RidgeClassifierCV(np.arange(0, 1, 0.01),cv = 10,)"
   ]
  },
  {
   "cell_type": "code",
   "execution_count": null,
   "metadata": {},
   "outputs": [],
   "source": [
    "ridgecv.fit(x_scaled,y)"
   ]
  },
  {
   "cell_type": "code",
   "execution_count": null,
   "metadata": {},
   "outputs": [],
   "source": [
    "ridgecv.alpha_"
   ]
  },
  {
   "cell_type": "code",
   "execution_count": null,
   "metadata": {},
   "outputs": [],
   "source": [
    "ridgecv = RidgeClassifier(alpha = 0.66,)\n",
    "ridgecv.fit(x_scaled,y)"
   ]
  },
  {
   "cell_type": "code",
   "execution_count": null,
   "metadata": {},
   "outputs": [],
   "source": [
    "ridgecv.score(x_scaled,y)"
   ]
  },
  {
   "cell_type": "code",
   "execution_count": null,
   "metadata": {},
   "outputs": [],
   "source": [
    "cs_ridge_cv = cross_val_score(ridgecv,x_scaled,y,cv = 10)\n",
    "cs_ridge_cv.mean()\n",
    "# best alpha value is 0.66 for ridgeclassifier"
   ]
  },
  {
   "cell_type": "code",
   "execution_count": null,
   "metadata": {},
   "outputs": [],
   "source": [
    "ridgecv_1 = RidgeClassifier(alpha = 0.66,)\n",
    "ridgecv_1.fit(Xtrain_scaled,ytrain_sc)\n",
    "ridgecv_pred_1 = ridgecv_1.predict(Xtest_scaled)"
   ]
  },
  {
   "cell_type": "code",
   "execution_count": null,
   "metadata": {},
   "outputs": [],
   "source": [
    "f1_score(ytest_sc,ridgecv_pred_1)"
   ]
  },
  {
   "cell_type": "code",
   "execution_count": null,
   "metadata": {},
   "outputs": [],
   "source": [
    "len(ridgecv_1.feature_names_in_)"
   ]
  },
  {
   "cell_type": "markdown",
   "metadata": {},
   "source": [
    "# KNN "
   ]
  },
  {
   "cell_type": "code",
   "execution_count": null,
   "metadata": {},
   "outputs": [],
   "source": []
  },
  {
   "cell_type": "code",
   "execution_count": null,
   "metadata": {},
   "outputs": [],
   "source": [
    "from sklearn.neighbors import KNeighborsClassifier\n",
    "\n",
    "knear = KNeighborsClassifier(n_neighbors=5)"
   ]
  },
  {
   "cell_type": "code",
   "execution_count": null,
   "metadata": {},
   "outputs": [],
   "source": [
    "knear.fit(Xtest_scaled,ytest_sc)\n",
    "y_pred_knn = knear.predict(Xtest_scaled)"
   ]
  },
  {
   "cell_type": "code",
   "execution_count": null,
   "metadata": {},
   "outputs": [],
   "source": [
    "f1_score(ytest_sc,y_pred_knn)"
   ]
  },
  {
   "cell_type": "code",
   "execution_count": null,
   "metadata": {
    "scrolled": true
   },
   "outputs": [],
   "source": [
    "print(classification_report(ytest_sc,y_pred_knn))"
   ]
  },
  {
   "cell_type": "markdown",
   "metadata": {},
   "source": [
    "## Testing overfitting and underfitting"
   ]
  },
  {
   "cell_type": "code",
   "execution_count": null,
   "metadata": {
    "scrolled": true
   },
   "outputs": [],
   "source": [
    "# training data \n",
    "from sklearn.metrics import classification_report\n",
    "knn_train = KNeighborsClassifier(n_neighbors=5)\n",
    "knn_train.fit(Xtrain_scaled, ytrain_sc)\n",
    "ypred_knn = knn_train.predict(Xtrain_scaled)\n",
    "\n",
    "print(\"Train classification report \\n\\n\",classification_report(ytrain_sc, ypred_knn),\"\\n\")\n",
    "print(\"Train f1_score \\n\\n\",f1_score(ytrain_sc, ypred_knn),\"\\n\" )\n",
    "\n",
    "y_pred_knn_test = knn_train.predict(Xtest_scaled)\n",
    "print(\"Test classification report \\n\\n\",classification_report(ytest_sc, ypred_knn_test),\"\\n\")\n",
    "print(\"Test f1_score \\n\\n\",f1_score(ytest_sc, ypred_knn_test) )"
   ]
  },
  {
   "cell_type": "markdown",
   "metadata": {},
   "source": [
    "## Grid search on KNN"
   ]
  },
  {
   "cell_type": "code",
   "execution_count": null,
   "metadata": {},
   "outputs": [],
   "source": [
    "# Grid search\n",
    "\n",
    "parameters_decision = {'n_neighbors' :  [1,2,3,4,5,6,7,8,9,10],'weights' : ['uniform','distance'],'p':[1,2]}\n",
    "\n",
    "gd_knn = GridSearchCV(estimator=KNeighborsClassifier(),param_grid=parameters_decision)"
   ]
  },
  {
   "cell_type": "code",
   "execution_count": null,
   "metadata": {},
   "outputs": [],
   "source": [
    "gd_knn.fit(x_scaled,y)"
   ]
  },
  {
   "cell_type": "code",
   "execution_count": null,
   "metadata": {},
   "outputs": [],
   "source": [
    "gd_knn.best_params_"
   ]
  },
  {
   "cell_type": "code",
   "execution_count": null,
   "metadata": {},
   "outputs": [],
   "source": [
    "# grid serach model"
   ]
  },
  {
   "cell_type": "code",
   "execution_count": null,
   "metadata": {},
   "outputs": [],
   "source": [
    "knn_grid = KNeighborsClassifier(n_neighbors=10,p = 1,weights = 'distance')\n",
    "knn_grid.fit(Xtest_scaled,ytest_sc)\n",
    "y_pred_knn_grid = knn_grid.predict(Xtest_scaled)"
   ]
  },
  {
   "cell_type": "code",
   "execution_count": null,
   "metadata": {},
   "outputs": [],
   "source": [
    "print(classification_report(ytest_sc,y_pred_knn_grid))"
   ]
  },
  {
   "cell_type": "code",
   "execution_count": null,
   "metadata": {},
   "outputs": [],
   "source": [
    "f1_score(ytest_sc,y_pred_knn_grid)"
   ]
  },
  {
   "cell_type": "markdown",
   "metadata": {},
   "source": [
    "## Checking overfitting and underfitting of Grid Search KNN"
   ]
  },
  {
   "cell_type": "code",
   "execution_count": null,
   "metadata": {},
   "outputs": [],
   "source": [
    "knn_grid_train = KNeighborsClassifier(n_neighbors=10,p = 1,weights = 'distance')\n",
    "knn_grid_train.fit(Xtrain_scaled, ytrain_sc)\n",
    "ypred_knn = knn_grid_train.predict(Xtrain_scaled)\n",
    "\n",
    "print(\"Train report\\n\\n\",classification_report(ytrain_sc, ypred_knn))\n",
    "print(\"Train f1_score \\n\\n\",f1_score(ytrain_sc, ypred_knn))\n",
    "ypred_knn_test = knn_grid_train.predict(Xtest_scaled)\n",
    "print(\"Test report\\n\\n\",classification_report(ytest_sc, ypred_knn_test))\n",
    "print(\"Test f1_score \\n\",f1_score(ytest_sc, ypred_knn_test))"
   ]
  },
  {
   "cell_type": "code",
   "execution_count": null,
   "metadata": {},
   "outputs": [],
   "source": []
  },
  {
   "cell_type": "code",
   "execution_count": null,
   "metadata": {},
   "outputs": [],
   "source": [
    "# Grid search has increased the overfitting of the data."
   ]
  },
  {
   "cell_type": "markdown",
   "metadata": {},
   "source": [
    "# Random Forest"
   ]
  },
  {
   "cell_type": "code",
   "execution_count": null,
   "metadata": {},
   "outputs": [],
   "source": [
    "from sklearn.ensemble import RandomForestClassifier"
   ]
  },
  {
   "cell_type": "code",
   "execution_count": null,
   "metadata": {},
   "outputs": [],
   "source": [
    "random = RandomForestClassifier()\n",
    "random.fit(Xtrain,ytrain)\n",
    "ypred_random = random.predict(Xtest)\n",
    "print(classification_report(ytest,ypred_random))"
   ]
  },
  {
   "cell_type": "code",
   "execution_count": null,
   "metadata": {},
   "outputs": [],
   "source": [
    "f1_score(ytest,ypred_random)"
   ]
  },
  {
   "cell_type": "code",
   "execution_count": null,
   "metadata": {
    "scrolled": true
   },
   "outputs": [],
   "source": [
    "random = RandomForestClassifier()\n",
    "random.fit(Xtrain,ytrain)\n",
    "ypred_random_train = random.predict(Xtrain)\n",
    "print(\"train classification report\\n\\n\",classification_report(ytrain,ypred_random_train),\"\\n\")\n",
    "print(\"train f1 score \\n\\n\",f1_score(ytrain,ypred_random_train),\"\\n\")\n",
    "\n",
    "ypred_random_test = random.predict(Xtest)\n",
    "print(\"test classification report \\n\\n\",classification_report(ytest,ypred_random_test),\"\\n\")\n",
    "print(\"test f1 score\",f1_score(ytest,ypred_random_test),\"\\n\")"
   ]
  },
  {
   "cell_type": "code",
   "execution_count": null,
   "metadata": {},
   "outputs": [],
   "source": [
    "# The model is overfitting "
   ]
  },
  {
   "cell_type": "code",
   "execution_count": null,
   "metadata": {},
   "outputs": [],
   "source": []
  },
  {
   "cell_type": "code",
   "execution_count": null,
   "metadata": {},
   "outputs": [],
   "source": [
    "# Model comparisions"
   ]
  },
  {
   "cell_type": "code",
   "execution_count": null,
   "metadata": {},
   "outputs": [],
   "source": [
    "accuracy_scaled = [accuracy_score(ytest_sc,ypred_logreg),accuracy_score(ytest_sc,y_pred_knn),accuracy_score(ytest_sc,y_pred_knn_grid)]\n",
    "precision_scaled = [precision_score(ytest_sc,ypred_logreg),precision_score(ytest_sc,y_pred_knn),precision_score(ytest_sc,y_pred_knn_grid)]\n",
    "recall_scaled = [recall_score(ytest_sc,ypred_logreg),recall_score(ytest_sc,y_pred_knn),recall_score(ytest_sc,y_pred_knn_grid)]\n",
    "f1_score_scaled = [f1_score(ytest_sc,ypred_logreg),f1_score(ytest_sc,y_pred_knn),f1_score(ytest_sc,y_pred_knn_grid)]\n"
   ]
  },
  {
   "cell_type": "code",
   "execution_count": null,
   "metadata": {},
   "outputs": [],
   "source": [
    "accuracy = [accuracy_score(ytest,pred_dtc),accuracy_score(ytest,ypred_grid_decision_final),accuracy_score(ytest,ypred_random)]\n",
    "precision = [precision_score(ytest,pred_dtc),precision_score(ytest,ypred_grid_decision_final),precision_score(ytest,ypred_random)]\n",
    "recall = [recall_score(ytest,pred_dtc),recall_score(ytest,ypred_grid_decision_final),recall_score(ytest,ypred_random)]\n",
    "f1_score_1 = [f1_score(ytest,pred_dtc),f1_score(ytest,ypred_grid_decision_final),f1_score(ytest,ypred_random)]\n",
    "# "
   ]
  },
  {
   "cell_type": "code",
   "execution_count": null,
   "metadata": {},
   "outputs": [],
   "source": [
    "from sklearn.ensemble import GradientBoostingClassifier\n",
    "from sklearn.ensemble import AdaBoostClassifier\n",
    "\n",
    "gbc = GradientBoostingClassifier(random_state = 10)\n",
    "gbc.fit(Xtrain_scaled,ytrain_sc)"
   ]
  },
  {
   "cell_type": "code",
   "execution_count": null,
   "metadata": {},
   "outputs": [],
   "source": [
    "gbc_pred = gbc.predict(Xtest_scaled)"
   ]
  },
  {
   "cell_type": "code",
   "execution_count": null,
   "metadata": {},
   "outputs": [],
   "source": [
    "print(classification_report(ytest_sc,gbc_pred))"
   ]
  },
  {
   "cell_type": "code",
   "execution_count": null,
   "metadata": {},
   "outputs": [],
   "source": [
    "f1_score(ytest_sc,gbc_pred)"
   ]
  },
  {
   "cell_type": "code",
   "execution_count": null,
   "metadata": {
    "scrolled": true
   },
   "outputs": [],
   "source": [
    "gbc.fit(Xtrain_scaled,ytrain_sc)\n",
    "gbc_pred_train = gbc.predict(Xtrain_scaled)\n",
    "print(f1_score(ytrain_sc,gbc_pred_train))\n",
    "\n",
    "gbc_pred_test = gbc.predict(Xtest_scaled)\n",
    "f1_score(ytest_sc,gbc_pred_test)"
   ]
  },
  {
   "cell_type": "code",
   "execution_count": null,
   "metadata": {},
   "outputs": [],
   "source": [
    "GradientBoostingClassifier()"
   ]
  },
  {
   "cell_type": "code",
   "execution_count": null,
   "metadata": {},
   "outputs": [],
   "source": [
    "# Grid search on gradient boosting.\n",
    "params_gradient = {'loss':['deviance', 'exponential'],'learning_rate':np.arange(0,1,0.01),'min_samples_split':[2,3,4,5,6,7,8,9,10],'min_samples_leaf':[2,3,4,5,6,7,8,9,10]}\n",
    "gradient_grid = GridSearchCV(GradientBoostingClassifier(),param_grid=params_gradient)\n"
   ]
  },
  {
   "cell_type": "code",
   "execution_count": null,
   "metadata": {},
   "outputs": [],
   "source": [
    "gradient_grid.fit(x_scaled,y)"
   ]
  },
  {
   "cell_type": "code",
   "execution_count": null,
   "metadata": {},
   "outputs": [],
   "source": [
    "model_comparision_1 = pd.DataFrame(columns = ['Logistic_Regression','KNN','KNN_Grid'],index=  ['Accuracy','Precision','Recall','F1_score'])\n",
    "model_comparision = pd.DataFrame(columns = ['Decision_Tree','Decision_Tree_Grid','Random_Forest'],index=  ['Accuracy','Precision','Recall','F1_score'])\n"
   ]
  },
  {
   "cell_type": "code",
   "execution_count": null,
   "metadata": {},
   "outputs": [],
   "source": [
    "\n",
    "model_comparision_1.loc['Accuracy'] = accuracy_scaled\n",
    "model_comparision_1.loc['Precision'] = precision_scaled\n",
    "model_comparision_1.loc['Recall'] = recall_scaled\n",
    "model_comparision_1.loc['F1_score'] = f1_score_scaled"
   ]
  },
  {
   "cell_type": "code",
   "execution_count": null,
   "metadata": {},
   "outputs": [],
   "source": [
    "model_comparision.loc['Accuracy'] = accuracy\n",
    "model_comparision.loc['Precision'] = precision\n",
    "model_comparision.loc['Recall'] = recall\n",
    "model_comparision.loc['F1_score'] = f1_score_1"
   ]
  },
  {
   "cell_type": "code",
   "execution_count": null,
   "metadata": {},
   "outputs": [],
   "source": []
  },
  {
   "cell_type": "code",
   "execution_count": null,
   "metadata": {},
   "outputs": [],
   "source": [
    "final_model_comparision = pd.concat([model_comparision,model_comparision_1],axis = 1)"
   ]
  },
  {
   "cell_type": "code",
   "execution_count": null,
   "metadata": {},
   "outputs": [],
   "source": [
    "final_model_comparision"
   ]
  },
  {
   "cell_type": "code",
   "execution_count": null,
   "metadata": {},
   "outputs": [],
   "source": [
    "# As per the model Decision tree is the best model\n",
    "# with highest scores"
   ]
  },
  {
   "cell_type": "code",
   "execution_count": null,
   "metadata": {},
   "outputs": [],
   "source": []
  },
  {
   "cell_type": "code",
   "execution_count": null,
   "metadata": {},
   "outputs": [],
   "source": []
  },
  {
   "cell_type": "code",
   "execution_count": null,
   "metadata": {},
   "outputs": [],
   "source": []
  },
  {
   "cell_type": "code",
   "execution_count": null,
   "metadata": {},
   "outputs": [],
   "source": []
  }
 ],
 "metadata": {
  "kernelspec": {
   "display_name": "Python 3",
   "language": "python",
   "name": "python3"
  },
  "language_info": {
   "codemirror_mode": {
    "name": "ipython",
    "version": 3
   },
   "file_extension": ".py",
   "mimetype": "text/x-python",
   "name": "python",
   "nbconvert_exporter": "python",
   "pygments_lexer": "ipython3",
   "version": "3.7.6"
  }
 },
 "nbformat": 4,
 "nbformat_minor": 4
}
